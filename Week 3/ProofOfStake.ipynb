{
 "cells": [
  {
   "cell_type": "code",
   "id": "9122ee2e",
   "metadata": {
    "ExecuteTime": {
     "end_time": "2025-09-02T01:57:29.360364Z",
     "start_time": "2025-09-02T01:57:29.356902Z"
    }
   },
   "source": [
    "import hashlib\n",
    "import json\n",
    "from datetime import datetime\n",
    "import random"
   ],
   "outputs": [],
   "execution_count": 2
  },
  {
   "cell_type": "code",
   "id": "0de5effd",
   "metadata": {
    "ExecuteTime": {
     "end_time": "2025-09-02T01:57:29.400628Z",
     "start_time": "2025-09-02T01:57:29.396201Z"
    }
   },
   "source": [
    "class Block:\n",
    "    def __init__(self, index, previous_hash, timestamp, data, validator):\n",
    "        self.index = index\n",
    "        self.previous_hash = previous_hash\n",
    "        self.timestamp = timestamp\n",
    "        self.data = data\n",
    "        self.validator = validator\n",
    "        self.hash = self.calculate_hash()\n",
    "\n",
    "    def calculate_hash(self):\n",
    "        block_dict = self.__dict__\n",
    "        if 'hash' in block_dict:\n",
    "            del block_dict['hash']\n",
    "        block_string = json.dumps(block_dict, sort_keys=True).encode()\n",
    "        return hashlib.sha256(block_string).hexdigest()"
   ],
   "outputs": [],
   "execution_count": 3
  },
  {
   "cell_type": "code",
   "id": "b3389d28",
   "metadata": {
    "ExecuteTime": {
     "end_time": "2025-09-02T01:57:29.435903Z",
     "start_time": "2025-09-02T01:57:29.429714Z"
    }
   },
   "source": [
    "class Blockchain:\n",
    "    def __init__(self):\n",
    "        self.chain = []\n",
    "        self.unconfirmed_data = []\n",
    "        self.validators = {}\n",
    "        self.staked_tokens = {}\n",
    "        self.minimum_stake = 10\n",
    "        self.create_genesis_block()\n",
    "\n",
    "    def create_genesis_block(self):\n",
    "        genesis_block = Block(0, None, str(datetime.now()), \"Genesis Block\", None)\n",
    "        self.chain.append(genesis_block)\n",
    "\n",
    "    def last_block(self):\n",
    "        return self.chain[-1]\n",
    "\n",
    "    def add_data(self, new_data):\n",
    "        self.unconfirmed_data.append(new_data)\n",
    "\n",
    "    def add_validator(self, validator, stake):\n",
    "        if stake >= self.minimum_stake:\n",
    "            self.staked_tokens[validator] = stake\n",
    "            self.validators[validator] = True\n",
    "        else:\n",
    "            print(f\"{validator} does not meet the minimum stake requirement.\")\n",
    "            \n",
    "    def select_validator(self):\n",
    "        total_stake = sum(self.staked_tokens.values())\n",
    "        selected_validator = None\n",
    "        while selected_validator == None:\n",
    "            pick = random.uniform(0, total_stake)\n",
    "            print(pick)\n",
    "            current = 0\n",
    "            for validator, stake in self.staked_tokens.items():\n",
    "                print(validator, stake)\n",
    "                current += stake\n",
    "                if current > pick:\n",
    "                    selected_validator = validator\n",
    "                    break\n",
    "        return selected_validator\n",
    "\n",
    "    def create_block(self, validator):\n",
    "        if not self.unconfirmed_data:\n",
    "            return False\n",
    "        \n",
    "        last_block = self.last_block()\n",
    "        new_block = Block(index=last_block.index + 1, \n",
    "                          previous_hash=last_block.hash,\n",
    "                          timestamp=str(datetime.now()),\n",
    "                          data=self.unconfirmed_data,\n",
    "                          validator=validator)\n",
    "        self.chain.append(new_block)\n",
    "        self.unconfirmed_data = []\n",
    "        return new_block.index\n",
    "\n",
    "    def display_chain(self):\n",
    "        for block in self.chain:\n",
    "            print(f\"Block {block.__dict__}\")\n",
    "            "
   ],
   "outputs": [],
   "execution_count": 4
  },
  {
   "cell_type": "code",
   "id": "a48b8afe",
   "metadata": {
    "ExecuteTime": {
     "end_time": "2025-09-02T01:57:29.446432Z",
     "start_time": "2025-09-02T01:57:29.442721Z"
    }
   },
   "source": [
    "# Create a Blockchain object\n",
    "blockchain = Blockchain()"
   ],
   "outputs": [],
   "execution_count": 5
  },
  {
   "cell_type": "code",
   "id": "da891450",
   "metadata": {
    "ExecuteTime": {
     "end_time": "2025-09-02T01:57:29.458176Z",
     "start_time": "2025-09-02T01:57:29.454009Z"
    }
   },
   "source": [
    "# Adding some validators\n",
    "blockchain.add_validator(999, 10)\n",
    "blockchain.add_validator(1111, 50)\n",
    "blockchain.add_validator(1222, 30)\n",
    "blockchain.add_validator(1333, 20)\n",
    "blockchain.add_validator(1444, 20)"
   ],
   "outputs": [],
   "execution_count": 6
  },
  {
   "cell_type": "code",
   "id": "cf873c04",
   "metadata": {
    "ExecuteTime": {
     "end_time": "2025-09-02T01:57:29.469118Z",
     "start_time": "2025-09-02T01:57:29.465840Z"
    }
   },
   "source": [
    "blockchain.add_data(\"James earned 10 LSU_tokens\")\n",
    "blockchain.add_data(\"James pays Mike_the_tiger 5 LSU_tokens\")\n"
   ],
   "outputs": [],
   "execution_count": 7
  },
  {
   "cell_type": "code",
   "id": "fac7d46e",
   "metadata": {
    "ExecuteTime": {
     "end_time": "2025-09-02T01:57:29.481720Z",
     "start_time": "2025-09-02T01:57:29.477930Z"
    }
   },
   "source": [
    "selected_validator = blockchain.select_validator()\n",
    "print(f\"Validator selected: {selected_validator}\")"
   ],
   "outputs": [
    {
     "name": "stdout",
     "output_type": "stream",
     "text": [
      "70.62160742613852\n",
      "999 10\n",
      "1111 50\n",
      "1222 30\n",
      "Validator selected: 1222\n"
     ]
    }
   ],
   "execution_count": 8
  },
  {
   "cell_type": "code",
   "id": "174b626e",
   "metadata": {
    "ExecuteTime": {
     "end_time": "2025-09-02T01:57:29.504537Z",
     "start_time": "2025-09-02T01:57:29.501468Z"
    }
   },
   "source": [
    "blockchain.create_block(selected_validator)\n",
    "blockchain.display_chain()"
   ],
   "outputs": [
    {
     "name": "stdout",
     "output_type": "stream",
     "text": [
      "Block {'index': 0, 'previous_hash': None, 'timestamp': '2025-09-01 21:57:29.444613', 'data': 'Genesis Block', 'validator': None, 'hash': 'e39f556dc623af12e9d3f7a28caf7c37fe47f4d363ce45efbaa54803f807e92b'}\n",
      "Block {'index': 1, 'previous_hash': 'e39f556dc623af12e9d3f7a28caf7c37fe47f4d363ce45efbaa54803f807e92b', 'timestamp': '2025-09-01 21:57:29.501468', 'data': ['James earned 10 LSU_tokens', 'James pays Mike_the_tiger 5 LSU_tokens'], 'validator': 1222, 'hash': '5f04656a0774aee70efc855c5cea69d1f67fb2503997e1bfa1224a42812bdcb8'}\n"
     ]
    }
   ],
   "execution_count": 9
  },
  {
   "cell_type": "code",
   "id": "4e5c2347",
   "metadata": {
    "ExecuteTime": {
     "end_time": "2025-09-02T01:57:29.523920Z",
     "start_time": "2025-09-02T01:57:29.520864Z"
    }
   },
   "source": [],
   "outputs": [],
   "execution_count": null
  }
 ],
 "metadata": {
  "kernelspec": {
   "display_name": "Python 3 (ipykernel)",
   "language": "python",
   "name": "python3"
  },
  "language_info": {
   "codemirror_mode": {
    "name": "ipython",
    "version": 3
   },
   "file_extension": ".py",
   "mimetype": "text/x-python",
   "name": "python",
   "nbconvert_exporter": "python",
   "pygments_lexer": "ipython3",
   "version": "3.10.9"
  }
 },
 "nbformat": 4,
 "nbformat_minor": 5
}
