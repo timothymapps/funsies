{
 "cells": [
  {
   "cell_type": "markdown",
   "id": "6e30249f",
   "metadata": {},
   "source": [
    "# Weak Subjectivity, Attestations, Rewards & Penalties (Notebook 2)\n",
    "**Topics**: weak subjectivity checkpoints, attestation structure & aggregation, reward math, inactivity leak.\n",
    "\n",
    "---\n",
    "## Weak Subjectivity (WS)\n",
    "- PoS relies on **historical votes**, so long‑range forks are a concern.\n",
    "- **WS checkpoints**: recent state roots that nodes trust to sync from; blocks prior to WS are treated as immutable.\n",
    "- Practical: get a recent checkpoint from multiple sources (e.g., explorers, peers) and sync forward objectively.\n"
   ]
  },
  {
   "cell_type": "markdown",
   "id": "3ece3edc",
   "metadata": {},
   "source": [
    "## Attestations\n",
    "Every validator **attests** once per **epoch**. An attestation includes:\n",
    "- `aggregation_bits` (which validators participated)\n",
    "- `data = {slot, index, beacon_block_root, source, target}`\n",
    "- `signature` (BLS aggregate signature)\n",
    "The votes cover **source** (last justified), **target** (current epoch checkpoint), and **head** (fork choice)."
   ]
  },
  {
   "cell_type": "code",
   "id": "26b6aa56",
   "metadata": {
    "ExecuteTime": {
     "end_time": "2025-09-02T02:26:37.602406Z",
     "start_time": "2025-09-02T02:26:37.582498Z"
    }
   },
   "source": [
    "# Simple attestation aggregation demo (toy, no BLS)\n",
    "from dataclasses import dataclass\n",
    "from typing import List\n",
    "import random\n",
    "\n",
    "@dataclass\n",
    "class AttestationData:\n",
    "    slot: int\n",
    "    index: int           # committee index\n",
    "    beacon_block_root: str\n",
    "    source_root: str\n",
    "    target_root: str\n",
    "\n",
    "@dataclass\n",
    "class Attestation:\n",
    "    aggregation_bits: List[int]  # 0/1 per committee member\n",
    "    data: AttestationData\n",
    "    signature: str               # placeholder string, in reality BLS\n",
    "\n",
    "def make_committee(size=32, seed=0):\n",
    "    rng = random.Random(seed)\n",
    "    return list(range(size))\n",
    "\n",
    "def aggregate(attestations: List[Attestation]):\n",
    "    # Combine bitlists (OR) and pretend-signature concatenation (placeholder)\n",
    "    bits = [0]*len(attestations[0].aggregation_bits)\n",
    "    for a in attestations:\n",
    "        bits = [int(b or a.aggregation_bits[i]) for i,b in enumerate(bits)]\n",
    "    sig = \"agg(\" + \"+\".join(a.signature for a in attestations) + \")\"\n",
    "    return bits, sig\n",
    "\n",
    "committee = make_committee(16, seed=7)\n",
    "# Two sub-sets attest\n",
    "A = Attestation([1 if i<10 else 0 for i in range(16)],\n",
    "                AttestationData(123, 0, \"root_D\", \"src_X\", \"tgt_Y\"),\n",
    "                \"sigA\")\n",
    "B = Attestation([1 if 5<=i<16 else 0 for i in range(16)],\n",
    "                AttestationData(123, 0, \"root_D\", \"src_X\", \"tgt_Y\"),\n",
    "                \"sigB\")\n",
    "bits, sig = aggregate([A,B])\n",
    "print(\"Aggregated bits:\", bits)\n",
    "print(\"Effective participants:\", sum(bits), \"/ 16\")\n",
    "print(\"Aggregated signature (placeholder):\", sig)"
   ],
   "outputs": [
    {
     "name": "stdout",
     "output_type": "stream",
     "text": [
      "Aggregated bits: [1, 1, 1, 1, 1, 1, 1, 1, 1, 1, 1, 1, 1, 1, 1, 1]\n",
      "Effective participants: 16 / 16\n",
      "Aggregated signature (placeholder): agg(sigA+sigB)\n"
     ]
    }
   ],
   "execution_count": 1
  },
  {
   "cell_type": "markdown",
   "id": "81773850",
   "metadata": {},
   "source": [
    "## Rewards & Penalties math (didactic)\n",
    "Let’s implement the `base_reward` and show how inclusion delay affects rewards.\n",
    "**Not production**—parameters are fixed per current public docs; consult specs for updates."
   ]
  },
  {
   "cell_type": "code",
   "id": "45318332",
   "metadata": {
    "ExecuteTime": {
     "end_time": "2025-09-02T02:26:37.698973Z",
     "start_time": "2025-09-02T02:26:37.682976Z"
    }
   },
   "source": [
    "import math\n",
    "\n",
    "BASE_REWARD_FACTOR = 64\n",
    "BASE_REWARDS_PER_EPOCH = 4\n",
    "\n",
    "def base_reward(effective_balance, total_active_balance):\n",
    "    # effective_balance, total_active_balance in ETH (toy)\n",
    "    return effective_balance * (BASE_REWARD_FACTOR / (BASE_REWARDS_PER_EPOCH * math.sqrt(total_active_balance)))\n",
    "\n",
    "def attestation_reward(base, timely_source=True, timely_target=True, timely_head=True, inclusion_delay=1, in_sync_committee=False, was_proposer=False):\n",
    "    # weights from docs\n",
    "    weights = {\n",
    "        'source': 14, 'target': 26, 'head': 14, 'sync': 2, 'proposer': 8\n",
    "    }\n",
    "    total = 0\n",
    "    if timely_source: total += weights['source']\n",
    "    if timely_target: total += weights['target']\n",
    "    if timely_head:   total += weights['head']\n",
    "    # inclusion delay reward scales as 1/delay times base\n",
    "    inclusion_bonus = base * (1/max(1, inclusion_delay))\n",
    "    # proposer/sync are rare per epoch; simulated via flags\n",
    "    if in_sync_committee: total += weights['sync']\n",
    "    if was_proposer: total += weights['proposer']\n",
    "    # Normalize by sum-of-64 and add inclusion bonus\n",
    "    return base * (total/64.0) + inclusion_bonus\n",
    "\n",
    "eb = 32.0\n",
    "total_active = 1_000_000.0  # toy\n",
    "b = base_reward(eb, total_active)\n",
    "for d in [1,2,4,8]:\n",
    "    r = attestation_reward(b, inclusion_delay=d, was_proposer=False, in_sync_committee=False)\n",
    "    print(f\"Inclusion delay {d}: reward ~ {r:.6f} ETH units per epoch (toy)\")"
   ],
   "outputs": [
    {
     "name": "stdout",
     "output_type": "stream",
     "text": [
      "Inclusion delay 1: reward ~ 0.944000 ETH units per epoch (toy)\n",
      "Inclusion delay 2: reward ~ 0.688000 ETH units per epoch (toy)\n",
      "Inclusion delay 4: reward ~ 0.560000 ETH units per epoch (toy)\n",
      "Inclusion delay 8: reward ~ 0.496000 ETH units per epoch (toy)\n"
     ]
    }
   ],
   "execution_count": 2
  },
  {
   "cell_type": "markdown",
   "id": "ec5d3140",
   "metadata": {},
   "source": [
    "### Penalties & slashing (qualitative)\n",
    "- Missing source/target incurs equal **penalties** (mirror the reward not received).\n",
    "- **No penalty** for missing head vote or for failing to propose in a slot.\n",
    "- **Slashing** events (double propose, double vote, surround vote) trigger immediate burn + 36‑day forced exit with a correlation penalty.\n",
    "- **Inactivity leak** drains balances when finality stalls to restore >2/3 supermajority."
   ]
  },
  {
   "cell_type": "markdown",
   "id": "771e3b40",
   "metadata": {},
   "source": [
    "## Visualizing epoch/slot timing"
   ]
  },
  {
   "cell_type": "code",
   "id": "b0a843fd",
   "metadata": {
    "ExecuteTime": {
     "end_time": "2025-09-02T02:26:38.431325Z",
     "start_time": "2025-09-02T02:26:37.765229Z"
    }
   },
   "source": [
    "import matplotlib.pyplot as plt\n",
    "\n",
    "slots = list(range(0, 32))\n",
    "times = [s*12 for s in slots]\n",
    "plt.figure()\n",
    "plt.plot(slots, times, marker='o')\n",
    "plt.title(\"Epoch timing (toy): slot index vs seconds since epoch start\")\n",
    "plt.xlabel(\"Slot in epoch (0..31)\")\n",
    "plt.ylabel(\"Seconds since epoch start\")\n",
    "plt.show()"
   ],
   "outputs": [
    {
     "data": {
      "text/plain": [
       "<Figure size 640x480 with 1 Axes>"
      ],
      "image/png": "[encoded data removed]"
     },
     "metadata": {},
     "output_type": "display_data"
    }
   ],
   "execution_count": 3
  }
 ],
 "metadata": {
  "kernelspec": {
   "name": "python3",
   "language": "python",
   "display_name": "Python 3 (ipykernel)"
  }
 },
 "nbformat": 4,
 "nbformat_minor": 5
}
