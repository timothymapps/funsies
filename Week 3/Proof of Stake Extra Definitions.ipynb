{
 "cells": [
  {
   "metadata": {},
   "cell_type": "markdown",
   "source": [
    "## Extra Definitions\n",
    "\n",
    "### **Canonical Chain**\n",
    "- The **canonical chain** is the main or agreed-upon blockchain—distinct from side chains that are abandoned. :contentReference[oaicite:0]{index=0}\n",
    "- With **Proof-of-Work (PoW)**, it's the chain with the most cumulative work (or highest total difficulty).\n",
    "- Under **Proof-of-Stake (PoS)** (like Ethereum’s Gasper model), the canonical chain is determined by the **fork-choice rule** that selects the branch with the greatest weight of attestations."
   ],
   "id": "6f8116ccaf39e6e8"
  },
  {
   "metadata": {},
   "cell_type": "markdown",
   "source": [
    "### **Finality**\n",
    "- A **finalized block** cannot be reverted unless there's a critical consensus failure that destroys at least **one-third of the staked ETH**.\n",
    "- Finality requires **at least two-thirds of total staked ETH** to vote in favor of including a block.\n",
    "- Once finalized, the block is **permanently committed** to the canonical chain.\n",
    "\n",
    "### **Incentives & Slashing Behaviors**\n",
    "- **Economic Incentives Reward Honest Participation**\n",
    "  Validators earn rewards for correctly proposing blocks and submitting timely attestations, helping to secure the network and maintain finality.\n",
    "\n",
    "- **Slashing Penalizes Malicious or Disruptive Behavior**\n",
    "  Validators may be **slashed**—resulting in forced exit and loss of stake—for actions like:\n",
    "  - Proposing two blocks in the same slot\n",
    "  - Submitting conflicting (“surround”) attestations\n",
    "  - Double-voting on the same target\n",
    "  This discourages attempts at chain manipulation or destabilization.\n",
    "\n",
    "- **Shared Risk via Correlation Penalties**\n",
    "  While isolated slashing incurs moderate penalties, **mass slashing events** trigger escalating **correlation penalties**, potentially resulting in the slashing of nearly the entire validator stake in extreme cases."
   ],
   "id": "1f3874054a0f0664"
  },
  {
   "metadata": {},
   "cell_type": "markdown",
   "source": [
    "### **Inactivity Leak – Plain Language Version**\n",
    "- **Emergency Recovery when Finality Stalls**\n",
    "  If the beacon chain goes more than **four epochs without finalizing**, it enters a special recovery mode called the **inactivity leak**.\n",
    "\n",
    "- **Penalizing Inactive Validators**\n",
    "  Validators who fail to attest begin to **lose stake gradually**, often following a **quadratic penalty curve**, reducing their influence until active validators regain a two-thirds majority.\n",
    "\n",
    "- **Brings the Network Back to Life**\n",
    "  The mechanism ensures that, even if over one-third of validators go offline, **active validators regain control** by diluting inactive stake—restoring the ability to finalize new blocks.\n"
   ],
   "id": "c5182bc2f2555602"
  },
  {
   "metadata": {},
   "cell_type": "markdown",
   "source": [
    "### Weak Subjectivity Checkpoints vs Finalized Blocks (Concise)\n",
    "\n",
    "- **Finalized blocks**: nodes view them as irreversible, but if two conflicting blocks are finalized, nodes can't resolve the fork—indicating consensus has failed.\n",
    "- **Weak subjectivity checkpoints**: trusted state anchors; nodes reject any block conflicting with them, with no ambiguity allowed.\n",
    "- Weak checkpoints serve as a trusted sync base, unlike finalized blocks which rely solely on validator votes to determine chain history.\n"
   ],
   "id": "71b571ef73277ce7"
  },
  {
   "metadata": {},
   "cell_type": "markdown",
   "source": "",
   "id": "e0f59c32e030c4f0"
  },
  {
   "metadata": {},
   "cell_type": "markdown",
   "source": [
    "# Definitions: Ethereum PoS Rewards Terms\n",
    "\n",
    "**Rewards**\n",
    "Earnings a validator receives for:\n",
    "- Voting (attesting) in line with the majority.\n",
    "- Proposing blocks.\n",
    "- Participating in sync committees.\n",
    "\n",
    "---\n",
    "\n",
    "### **Base Reward**\n",
    "The base reward is the foundational unit for all rewards in an epoch. It’s calculated as:\n",
    "base_reward = effective_balance × (base_reward_factor / (base_rewards_per_epoch × √sum(active_balance)))\n",
    "\n",
    "- `base_reward_factor = 64`\n",
    "- `base_rewards_per_epoch = 4`\n",
    "- `sum(active_balance)` is the total active staked ETH across all validators.\n",
    "This formula means rewards scale with a validator’s effective balance and decrease as total stake increases.\n",
    "\n",
    "---\n",
    "\n",
    "### **Reward Components**\n",
    "Total reward is the sum of these weighted components (out of 64):\n",
    "\n",
    "1. **Source Vote** – timely vote for correct source checkpoint (weight: 14)\n",
    "2. **Target Vote** – timely vote for correct target checkpoint (weight: 26)\n",
    "3. **Head Vote** – timely vote for correct head block (weight: 14)\n",
    "4. **Sync Committee Reward** – participation in sync committee (weight: 2)\n",
    "5. **Proposer Reward** – proposing a block in the correct slot (weight: 8)\n",
    "\n",
    "A validator performing all duties can earn the full `base_reward`. Those who don’t propose blocks or join sync committees earn proportionally less."
   ],
   "id": "515f92552f81e1ef"
  },
  {
   "metadata": {},
   "cell_type": "markdown",
   "source": [
    "### What do Attackers want?\n",
    "\n",
    "1. **Reorg**: Reshuffle blocks in new order. With or without blocks in canonical chain. This malicious action could leave to censorship, double spending or value extraction.\n",
    "2. **Double finality**: Two forks finalizing simultaneously. Requires offchain solution.\n",
    "3. **Finality Delay**: Network attack with a disruption purpose.\n",
    "4. **Social Layer**: Undermine public trust."
   ],
   "id": "b06631ffa5352deb"
  },
  {
   "metadata": {},
   "cell_type": "markdown",
   "source": [
    "## Small ETH Attack:\n",
    "1. **Balancing Attack**: Split the honest validator set into discrete groups that have different views of the head of the chain\n",
    "2. **Bouncing Attacks**: Votes are again withheld by the attacking validators."
   ],
   "id": "6b3222fac6ef473c"
  }
 ],
 "metadata": {
  "kernelspec": {
   "display_name": "Python 3",
   "language": "python",
   "name": "python3"
  },
  "language_info": {
   "codemirror_mode": {
    "name": "ipython",
    "version": 2
   },
   "file_extension": ".py",
   "mimetype": "text/x-python",
   "name": "python",
   "nbconvert_exporter": "python",
   "pygments_lexer": "ipython2",
   "version": "2.7.6"
  }
 },
 "nbformat": 4,
 "nbformat_minor": 5
}
