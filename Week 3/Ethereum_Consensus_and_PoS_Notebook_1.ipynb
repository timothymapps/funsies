{
 "cells": [
  {
   "cell_type": "markdown",
   "id": "c5015721",
   "metadata": {},
   "source": [
    "# Ethereum Consensus Mechanisms & Proof‑of‑Stake (Notebook 1)\n",
    "**Sources**: ethereum.org consensus & PoS docs (see in‑app message for links).\n",
    "\n",
    "---\n",
    "## What is a consensus mechanism?\n",
    "- Full stack of protocols + incentives for nodes to agree on state.\n",
    "- Ethereum uses a **PoS-based** mechanism with rewards/penalties and fork choice.\n",
    "\n",
    "### Time structure\n",
    "- **Slot** = 12 seconds\n",
    "- **Epoch** = 32 slots\n",
    "\n",
    "### Roles\n",
    "- **Proposer**: proposes a block for the slot\n",
    "- **Attesters (committee)**: vote on source/target/head\n",
    "\n",
    "### Finality (Casper FFG)\n",
    "- Checkpoints at epoch boundaries; if 2/3 stake links two checkpoints -> the earlier becomes *finalized*."
   ]
  },
  {
   "cell_type": "code",
   "execution_count": null,
   "id": "e265887a",
   "metadata": {},
   "outputs": [],
   "source": [
    "# Parameters for time\n",
    "SLOT_SECONDS = 12\n",
    "SLOTS_PER_EPOCH = 32\n",
    "\n",
    "print(f\"Slot = {SLOT_SECONDS}s, Epoch = {SLOTS_PER_EPOCH} slots = {SLOT_SECONDS*SLOTS_PER_EPOCH/60:.2f} minutes\")"
   ]
  },
  {
   "cell_type": "markdown",
   "id": "e190c962",
   "metadata": {},
   "source": [
    "## Toy validator set & committees\n",
    "We'll simulate a small validator set and random committee assignments per slot. This is **not** the real RANDAO / shuffling, just a teaching demo."
   ]
  },
  {
   "cell_type": "code",
   "execution_count": null,
   "id": "912250aa",
   "metadata": {},
   "outputs": [],
   "source": [
    "import random, math\n",
    "random.seed(42)\n",
    "\n",
    "N_VALIDATORS = 256  # tiny vs mainnet\n",
    "VALIDATORS = list(range(N_VALIDATORS))\n",
    "\n",
    "def committee_for_slot(slot, size=64):\n",
    "    # very simplified: deterministic pseudo-random using slot as seed\n",
    "    rng = random.Random(slot)\n",
    "    members = VALIDATORS.copy()\n",
    "    rng.shuffle(members)\n",
    "    return members[:size]\n",
    "\n",
    "# Show a few committees\n",
    "for s in range(3):\n",
    "    c = committee_for_slot(s, size=8)\n",
    "    print(f\"Slot {s}: committee -> {c}\")"
   ]
  },
  {
   "cell_type": "markdown",
   "id": "e4ce2c93",
   "metadata": {},
   "source": [
    "## LMD‑GHOST‑style toy fork choice\n",
    "In Ethereum PoS, the fork choice is **LMD‑GHOST**: pick the head with greatest weight of latest messages. Below is a **toy** scoring to illustrate the concept."
   ]
  },
  {
   "cell_type": "code",
   "execution_count": null,
   "id": "9924ec56",
   "metadata": {},
   "outputs": [],
   "source": [
    "from collections import defaultdict, namedtuple\n",
    "\n",
    "Block = namedtuple('Block', 'hash parent slot')\n",
    "# Build a tiny fork tree\n",
    "genesis = Block('G', None, -1)\n",
    "b1 = Block('A', 'G', 0)\n",
    "b2 = Block('B', 'A', 1)  # main\n",
    "b3 = Block('C', 'A', 1)  # competing\n",
    "b4 = Block('D', 'B', 2)  # extends B\n",
    "tree = {blk.hash: blk for blk in [genesis,b1,b2,b3,b4]}\n",
    "\n",
    "# Latest attestation per validator: map validator->block_hash they voted head for\n",
    "latest = {}\n",
    "committee = committee_for_slot(2, size=20)\n",
    "# Pretend most attesters saw 'D', a few saw 'C'\n",
    "for i,v in enumerate(committee):\n",
    "    latest[v] = 'D' if i < 17 else 'C'\n",
    "\n",
    "def children(parent_hash):\n",
    "    return [h for h,b in tree.items() if b.parent == parent_hash]\n",
    "\n",
    "def weight_on(block_hash):\n",
    "    # weight = number of latest messages whose chain contains block_hash\n",
    "    def on_chain(h, target):\n",
    "        while h and h != 'G':\n",
    "            if h == target: \n",
    "                return True\n",
    "            h = tree[h].parent\n",
    "        return target=='G'\n",
    "    return sum(1 for v,h in latest.items() if on_chain(h, block_hash))\n",
    "\n",
    "def ghost_head(start='G'):\n",
    "    head = start\n",
    "    while True:\n",
    "        cs = children(head)\n",
    "        if not cs: \n",
    "            return head\n",
    "        # pick child with max weight; break ties lexicographically for determinism\n",
    "        head = sorted(cs, key=lambda x: (-weight_on(x), x))[0]\n",
    "\n",
    "print(\"GHOST head =\", ghost_head())"
   ]
  },
  {
   "cell_type": "markdown",
   "id": "d270aa20",
   "metadata": {},
   "source": [
    "> In this toy, the head should select the branch with the greater **attestation weight**."
   ]
  },
  {
   "cell_type": "markdown",
   "id": "665a1032",
   "metadata": {},
   "source": [
    "## End‑to‑end: transaction inclusion walkthrough (didactic)\n",
    "1. User sends tx to **execution client** mempool.\n",
    "2. Slot proposer builds execution payload, wraps into **beacon block**.\n",
    "3. Peers re‑execute payload; committee **attests**.\n",
    "4. After supermajority links between checkpoints, the earlier checkpoint **finalizes**."
   ]
  }
 ],
 "metadata": {},
 "nbformat": 4,
 "nbformat_minor": 5
}
