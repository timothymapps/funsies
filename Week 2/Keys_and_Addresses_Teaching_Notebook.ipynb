{
 "cells": [
  {
   "cell_type": "markdown",
   "id": "029d0caa",
   "metadata": {},
   "source": [
    "# Keys & Addresses — Python Teaching Notebook\n",
    "\n",
    "Use this notebook to demonstrate Bitcoin & Ethereum keys, addresses, and checksums. Each section has short, runnable examples you can live‑code while teaching.\n",
    "\n",
    "**Note:** A few cells use external libraries. If running in a fresh env, run the install cell first."
   ]
  },
  {
   "cell_type": "code",
   "execution_count": null,
   "id": "56cb7c2c",
   "metadata": {},
   "outputs": [],
   "source": [
    "# Optional: install dependencies if needed\n",
    "# Uncomment the next lines if you don't already have these packages installed in your environment.\n",
    "# %pip install ecdsa eth-utils eth-keys 'eth-hash[pycryptodome]'"
   ]
  },
  {
   "cell_type": "markdown",
   "id": "2360398c",
   "metadata": {},
   "source": [
    "## Table of Contents\n",
    "1. [Base58 & Base58Check (pure‑Python)](#base58)\n",
    "2. [secp256k1 keys, ECDSA, and WIF](#secp256k1)\n",
    "3. [Bitcoin P2PKH (legacy `1…`) address](#p2pkh)\n",
    "4. [Bitcoin P2SH (`3…`) from a redeem script](#p2sh)\n",
    "5. [Bech32 (SegWit v0) P2WPKH `bc1…`](#bech32)\n",
    "6. [Bech32m (v1+, e.g., Taproot)](#bech32m)\n",
    "7. [Ethereum: Keccak‑256, address derivation, EIP‑55](#ethereum)\n",
    "8. [EIP‑55 checksum (pure‑Python)](#eip55)\n",
    "9. [SHA‑256 vs Keccak‑256 quick compare](#hashcompare)\n",
    "10. [Checksum demo: error detection](#checksumdemo)\n"
   ]
  },
  {
   "cell_type": "markdown",
   "id": "ecdbc212",
   "metadata": {},
   "source": [
    "## 1) Base58 & Base58Check (pure‑Python) <a id='base58'></a>\n",
    "Why Base58 avoids confusing characters; how Base58Check uses a 4‑byte double‑SHA‑256 checksum to catch typos."
   ]
  },
  {
   "cell_type": "code",
   "id": "e7735289",
   "metadata": {
    "ExecuteTime": {
     "end_time": "2025-08-28T02:59:03.653850Z",
     "start_time": "2025-08-28T02:59:03.647585Z"
    }
   },
   "source": [
    "import hashlib\n",
    "\n",
    "ALPHABET = '123456789ABCDEFGHJKLMNPQRSTUVWXYZabcdefghijkmnopqrstuvwxyz'\n",
    "\n",
    "def b58encode(b: bytes) -> str:\n",
    "    n_zeros = len(b) - len(b.lstrip(b'\\x00'))\n",
    "    num = int.from_bytes(b, 'big')\n",
    "    s = ''\n",
    "    while num:\n",
    "        num, rem = divmod(num, 58)\n",
    "        s = ALPHABET[rem] + s\n",
    "    return '1' * n_zeros + s\n",
    "\n",
    "def b58decode(s: str) -> bytes:\n",
    "    num = 0\n",
    "    for ch in s:\n",
    "        num = num * 58 + ALPHABET.index(ch)\n",
    "    full = num.to_bytes((num.bit_length() + 7) // 8, 'big') or b'\\x00'\n",
    "    n_zeros = len(s) - len(s.lstrip('1'))\n",
    "    return b'\\x00' * n_zeros + full\n",
    "\n",
    "def base58check_encode(version_byte: bytes, payload: bytes) -> str:\n",
    "    data = version_byte + payload\n",
    "    checksum = hashlib.sha256(hashlib.sha256(data).digest()).digest()[:4]\n",
    "    return b58encode(data + checksum)\n",
    "\n",
    "def base58check_decode(s: str) -> tuple[bytes, bytes]:\n",
    "    raw = b58decode(s)\n",
    "    data, checksum = raw[:-4], raw[-4:]\n",
    "    calc = hashlib.sha256(hashlib.sha256(data).digest()).digest()[:4]\n",
    "    if calc != checksum:\n",
    "        raise ValueError('Bad Base58Check checksum')\n",
    "    return data[0:1], data[1:]\n",
    "\n",
    "# Demo\n",
    "v, payload = b'\\x00', bytes.fromhex('00112233445566778899aabbccddeeff00112233')\n",
    "addr = base58check_encode(v, payload)\n",
    "print('Base58Check:', addr)\n",
    "print('Decoded:', base58check_decode(addr))"
   ],
   "outputs": [
    {
     "name": "stdout",
     "output_type": "stream",
     "text": [
      "Base58Check: 11MXTrefsj1ZS3Q5e9D6DxGzZKHWALyo9\n",
      "Decoded: (b'\\x00', b'\\x00\\x11\"3DUfw\\x88\\x99\\xaa\\xbb\\xcc\\xdd\\xee\\xff\\x00\\x11\"3')\n"
     ]
    }
   ],
   "execution_count": 2
  },
  {
   "cell_type": "markdown",
   "id": "84da1559",
   "metadata": {},
   "source": [
    "## 2) secp256k1 keys, ECDSA sign/verify, and WIF <a id='secp256k1'></a>\n",
    "Deterministic ECDSA (RFC 6979), compressed vs uncompressed pubkeys, WIF encoding."
   ]
  },
  {
   "cell_type": "code",
   "id": "fb71e496",
   "metadata": {
    "ExecuteTime": {
     "end_time": "2025-08-28T03:02:14.875838Z",
     "start_time": "2025-08-28T03:02:14.830039Z"
    }
   },
   "source": [
    "from ecdsa import SigningKey, SECP256k1\n",
    "import os, hashlib\n",
    "\n",
    "# Private key & ECDSA keypair\n",
    "priv_key_bytes = os.urandom(32)\n",
    "sk = SigningKey.from_string(priv_key_bytes, curve=SECP256k1)\n",
    "vk = sk.verifying_key\n",
    "\n",
    "# Uncompressed & compressed public keys\n",
    "x = vk.pubkey.point.x(); y = vk.pubkey.point.y()\n",
    "x_bytes = x.to_bytes(32, 'big'); y_bytes = y.to_bytes(32, 'big')\n",
    "uncompressed_pub = b'\\x04' + x_bytes + y_bytes\n",
    "prefix = b'\\x02' if (y % 2 == 0) else b'\\x03'\n",
    "compressed_pub = prefix + x_bytes\n",
    "\n",
    "print('Priv (hex):', priv_key_bytes.hex())\n",
    "print('Pub (uncompressed):', uncompressed_pub.hex())\n",
    "print('Pub (compressed):', compressed_pub.hex())\n",
    "\n",
    "# WIF using Base58Check from section 1\n",
    "def wif_from_privkey(priv: bytes, compressed=True, mainnet=True):\n",
    "    version = b'\\x80' if mainnet else b'\\xEF'\n",
    "    payload = priv + (b'\\x01' if compressed else b'')\n",
    "    return base58check_encode(version, payload)\n",
    "\n",
    "wif = wif_from_privkey(priv_key_bytes, compressed=True, mainnet=True)\n",
    "print('WIF:', wif)\n",
    "\n",
    "# ECDSA sign/verify demo (deterministic k)\n",
    "msg = b'bitcoin is built on signatures'\n",
    "msg_hash = hashlib.sha256(msg).digest()\n",
    "sig = sk.sign_deterministic(msg_hash)\n",
    "print('Signature (DER):', sig.hex())\n",
    "print('Verify OK?:', vk.verify(sig, msg_hash))"
   ],
   "outputs": [
    {
     "name": "stdout",
     "output_type": "stream",
     "text": [
      "Priv (hex): 101dc067fff9e5b0ff3773f85226057c4951e33a0c6892a7f6d098e602ea5f1e\n",
      "Pub (uncompressed): 041eed5cf57a51285df0928abd2660945327fafac65ab50e22015057878b96c69206b379ffb39ed5429abaf289fb28392b02a4c40fc3ce4a0d51e4d1b44d34afd4\n",
      "Pub (compressed): 021eed5cf57a51285df0928abd2660945327fafac65ab50e22015057878b96c692\n",
      "WIF: Kwm3CSmRWXZt46o886JFXfav2xcWKtGUVR3WmTJ5CxLpufMWLa8h\n",
      "Signature (DER): 1e8b3c85a1baf4f86ae4d5a48cf388f0daf5533dbf54ef0c96b85ccfc3397226819c8ffc61677ca494b433f0b28bffea52144936aa10b3c09683802c0b1ea364\n",
      "Verify OK?: True\n"
     ]
    }
   ],
   "execution_count": 3
  },
  {
   "cell_type": "markdown",
   "id": "5e3d93a0",
   "metadata": {},
   "source": [
    "## 3) Bitcoin P2PKH (legacy `1…`) address <a id='p2pkh'></a>\n",
    "`address = Base58Check(version=0x00, payload=HASH160(pubkey))`."
   ]
  },
  {
   "cell_type": "code",
   "execution_count": null,
   "id": "cae82a20",
   "metadata": {},
   "outputs": [],
   "source": [
    "import hashlib\n",
    "\n",
    "def hash160(b: bytes) -> bytes:\n",
    "    return hashlib.new('ripemd160', hashlib.sha256(b).digest()).digest()\n",
    "\n",
    "def p2pkh_address_from_pubkey(pubkey_bytes: bytes, mainnet=True) -> str:\n",
    "    vh160 = (b'\\x00' if mainnet else b'\\x6F') + hash160(pubkey_bytes)\n",
    "    return base58check_encode(vh160[:1], vh160[1:])\n",
    "\n",
    "addr_legacy = p2pkh_address_from_pubkey(compressed_pub, mainnet=True)\n",
    "print('P2PKH (legacy) address:', addr_legacy)"
   ]
  },
  {
   "cell_type": "markdown",
   "id": "5548ec75",
   "metadata": {},
   "source": [
    "## 4) Bitcoin P2SH (`3…`) from a redeem script <a id='p2sh'></a>\n",
    "`address = Base58Check(version=0x05, payload=HASH160(redeem_script))`. Useful for multisig & custom scripts."
   ]
  },
  {
   "cell_type": "code",
   "execution_count": null,
   "id": "f75f3d80",
   "metadata": {},
   "outputs": [],
   "source": [
    "from binascii import unhexlify\n",
    "import os\n",
    "\n",
    "def push(data: bytes) -> bytes:\n",
    "    return bytes([len(data)]) + data\n",
    "\n",
    "# Example 2-of-3 multisig redeem script (illustrative; not production encoding)\n",
    "pubkeys = [compressed_pub, os.urandom(33), os.urandom(33)]\n",
    "redeem_script = b'\\x52' + b''.join(push(pk) for pk in pubkeys) + b'\\x53' + b'\\xae'\n",
    "sh = hash160(redeem_script)\n",
    "version = b'\\x05'\n",
    "p2sh_addr = base58check_encode(version, sh)\n",
    "print('P2SH address:', p2sh_addr)"
   ]
  },
  {
   "cell_type": "markdown",
   "id": "e5e94dbf",
   "metadata": {},
   "source": [
    "## 5) Bech32 (SegWit v0) P2WPKH `bc1…` <a id='bech32'></a>\n",
    "Encodes `OP_0 <20-byte HASH160(pubkey)>` using Bech32 (BIP‑0173)."
   ]
  },
  {
   "cell_type": "code",
   "execution_count": null,
   "id": "d7d74c87",
   "metadata": {},
   "outputs": [],
   "source": [
    "CHARSET = 'qpzry9x8gf2tvdw0s3jn54khce6mua7l'\n",
    "\n",
    "def bech32_polymod(values):\n",
    "    GEN = [0x3b6a57b2,0x26508e6d,0x1ea119fa,0x3d4233dd,0x2a1462b3]\n",
    "    chk = 1\n",
    "    for v in values:\n",
    "        b = (chk >> 25) & 0xff\n",
    "        chk = ((chk & 0x1ffffff) << 5) ^ v\n",
    "        for i in range(5):\n",
    "            chk ^= GEN[i] if ((b >> i) & 1) else 0\n",
    "    return chk\n",
    "\n",
    "def bech32_hrp_expand(hrp):\n",
    "    return [ord(x) >> 5 for x in hrp] + [0] + [ord(x) & 31 for x in hrp]\n",
    "\n",
    "def bech32_create_checksum(hrp, data):\n",
    "    values = bech32_hrp_expand(hrp) + data\n",
    "    polymod = bech32_polymod(values + [0,0,0,0,0,0]) ^ 1\n",
    "    return [(polymod >> 5*(5-i)) & 31 for i in range(6)]\n",
    "\n",
    "def bech32_encode(hrp, data):\n",
    "    combined = data + bech32_create_checksum(hrp, data)\n",
    "    return hrp + '1' + ''.join(CHARSET[d] for d in combined)\n",
    "\n",
    "def convertbits(data, frombits, tobits, pad=True):\n",
    "    acc = 0; bits = 0; ret = []\n",
    "    maxv = (1 << tobits) - 1\n",
    "    for value in data:\n",
    "        if value < 0 or (value >> frombits): return None\n",
    "        acc = (acc << frombits) | value\n",
    "        bits += frombits\n",
    "        while bits >= tobits:\n",
    "            bits -= tobits\n",
    "            ret.append((acc >> bits) & maxv)\n",
    "    if pad and bits:\n",
    "        ret.append((acc << (tobits - bits)) & maxv)\n",
    "    elif bits >= frombits or ((acc << (tobits - bits)) & maxv):\n",
    "        return None\n",
    "    return ret\n",
    "\n",
    "def hash160(b: bytes) -> bytes:\n",
    "    import hashlib\n",
    "    return hashlib.new('ripemd160', hashlib.sha256(b).digest()).digest()\n",
    "\n",
    "def p2wpkh_address(pubkey_bytes: bytes, hrp: str = 'bc') -> str:\n",
    "    h160 = hash160(pubkey_bytes)\n",
    "    data = [0] + convertbits(h160, 8, 5)\n",
    "    return bech32_encode(hrp, data)\n",
    "\n",
    "bech32_addr = p2wpkh_address(compressed_pub, 'bc')\n",
    "print('Bech32 P2WPKH:', bech32_addr)"
   ]
  },
  {
   "cell_type": "markdown",
   "id": "7c8d9b0b",
   "metadata": {},
   "source": [
    "## 6) Bech32m (v1+, e.g., Taproot) <a id='bech32m'></a>\n",
    "Bech32m changes the checksum constant (BIP‑350) and is required for witness versions ≥ 1."
   ]
  },
  {
   "cell_type": "code",
   "execution_count": null,
   "id": "b83fe349",
   "metadata": {},
   "outputs": [],
   "source": [
    "def bech32m_create_checksum(hrp, data):\n",
    "    values = bech32_hrp_expand(hrp) + data\n",
    "    polymod = bech32_polymod(values + [0,0,0,0,0,0]) ^ 0x2bc830a3\n",
    "    return [(polymod >> 5*(5-i)) & 31 for i in range(6)]\n",
    "\n",
    "def bech32m_encode(hrp, data):\n",
    "    combined = data + bech32m_create_checksum(hrp, data)\n",
    "    return hrp + '1' + ''.join(CHARSET[d] for d in combined)\n",
    "\n",
    "import os\n",
    "taproot_program = os.urandom(32)  # illustrative 32‑byte witness program\n",
    "data = [1] + convertbits(taproot_program, 8, 5)\n",
    "print('Bech32m (v1+):', bech32m_encode('bc', data))"
   ]
  },
  {
   "cell_type": "markdown",
   "id": "d4aba695",
   "metadata": {},
   "source": [
    "## 7) Ethereum: Keccak‑256, EOA address derivation, and EIP‑55 <a id='ethereum'></a>\n",
    "Ethereum uses Keccak‑256 (not FIPS SHA‑3) over the 64‑byte uncompressed pubkey; address is the last 20 bytes; EIP‑55 adds mixed‑case checksum."
   ]
  },
  {
   "cell_type": "code",
   "execution_count": null,
   "id": "55d0abd5",
   "metadata": {},
   "outputs": [],
   "source": [
    "from eth_keys import keys\n",
    "from eth_utils import keccak, to_checksum_address\n",
    "import os\n",
    "\n",
    "eth_priv = os.urandom(32)\n",
    "eth_sk = keys.PrivateKey(eth_priv)\n",
    "eth_vk = eth_sk.public_key\n",
    "uncompressed_64 = eth_vk.to_bytes()  # 64 bytes X||Y\n",
    "eth_addr_bytes = keccak(uncompressed_64)[-20:]\n",
    "eth_addr_hex = '0x' + eth_addr_bytes.hex()\n",
    "print('Raw address (no checksum):', eth_addr_hex)\n",
    "eth_addr_eip55 = to_checksum_address(eth_addr_hex)\n",
    "print('EIP-55 address:', eth_addr_eip55)\n",
    "\n",
    "message = b'hello ethereum'\n",
    "msg_hash = keccak(message)\n",
    "signature = eth_sk.sign_msg_hash(msg_hash)\n",
    "print('Signature (r||s||v):', signature.to_bytes().hex())\n",
    "print('Verify OK?:', eth_vk.verify_msg_hash(msg_hash, signature))"
   ]
  },
  {
   "cell_type": "markdown",
   "id": "4368c2b1",
   "metadata": {},
   "source": [
    "## 8) EIP‑55 checksum (pure‑Python helper) <a id='eip55'></a>"
   ]
  },
  {
   "cell_type": "code",
   "execution_count": null,
   "id": "43d5e572",
   "metadata": {},
   "outputs": [],
   "source": [
    "from eth_utils import keccak\n",
    "\n",
    "def to_eip55(addr_hex_no_0x: str) -> str:\n",
    "    addr = addr_hex_no_0x.lower()\n",
    "    hash_hex = keccak(addr.encode()).hex()\n",
    "    checksummed = ''.join(\n",
    "        ch.upper() if ch in 'abcdef' and int(hash_hex[i], 16) >= 8 else ch\n",
    "        for i, ch in enumerate(addr)\n",
    "    )\n",
    "    return '0x' + checksummed\n",
    "\n",
    "# Example:\n",
    "print(to_eip55('a0b86991c6218b36c1d19d4a2e9eb0ce3606eb48'))  # USDC mainnet contract"
   ]
  },
  {
   "cell_type": "markdown",
   "id": "4ceea7e7",
   "metadata": {},
   "source": [
    "## 9) SHA‑256 vs Keccak‑256 quick compare <a id='hashcompare'></a>\n",
    "Demonstrate the difference between `hashlib.sha3_256` (FIPS SHA‑3) and Ethereum's Keccak‑256."
   ]
  },
  {
   "cell_type": "code",
   "execution_count": null,
   "id": "1a1668a8",
   "metadata": {},
   "outputs": [],
   "source": [
    "import hashlib\n",
    "from eth_utils import keccak\n",
    "data = b'abc'\n",
    "print('SHA-256:', hashlib.sha256(data).hexdigest())\n",
    "print('SHA3-256 (FIPS):', hashlib.sha3_256(data).hexdigest())\n",
    "print('Keccak-256:', keccak(data).hex())"
   ]
  },
  {
   "cell_type": "markdown",
   "id": "443056fe",
   "metadata": {},
   "source": [
    "## 10) Checksum demo: error detection <a id='checksumdemo'></a>\n",
    "Flip a character in a Base58Check address and show that decoding fails."
   ]
  },
  {
   "cell_type": "code",
   "execution_count": null,
   "id": "e16a9e8f",
   "metadata": {},
   "outputs": [],
   "source": [
    "# Requires addr_legacy from earlier cells\n",
    "bad = addr_legacy[:5] + ('1' if addr_legacy[5] != '1' else '2') + addr_legacy[6:]\n",
    "try:\n",
    "    base58check_decode(bad)\n",
    "    print('Unexpectedly valid!')\n",
    "except ValueError as e:\n",
    "    print('Checksum caught the error:', e)"
   ]
  }
 ],
 "metadata": {
  "kernelspec": {
   "name": "python3",
   "language": "python",
   "display_name": "Python 3 (ipykernel)"
  }
 },
 "nbformat": 4,
 "nbformat_minor": 5
}
