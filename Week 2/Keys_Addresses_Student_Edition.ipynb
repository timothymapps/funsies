{
 "cells": [
  {
   "cell_type": "markdown",
   "id": "50409e90",
   "metadata": {},
   "source": [
    "# Keys & Addresses — Student Edition\n",
    "\n",
    "**What you'll learn (in plain English):**\n",
    "- What private and public keys are (on the same curve Bitcoin/Ethereum use)\n",
    "- How hashes work (SHA‑256 vs Keccak‑256)\n",
    "- How to make a **Bitcoin legacy address** (starts with `1…`)\n",
    "- How to make an **Ethereum address** (starts with `0x…`)\n",
    "- How checksums catch typos\n",
    "\n",
    "**Keep it simple:** we use small helper functions and common libraries so you can focus on concepts, not low‑level details."
   ]
  },
  {
   "cell_type": "code",
   "id": "3e6945e4",
   "metadata": {
    "ExecuteTime": {
     "end_time": "2025-08-28T03:20:05.171643Z",
     "start_time": "2025-08-28T03:20:04.065872Z"
    }
   },
   "source": [
    "# (Run this once) Install the small libraries we use\n",
    "# If this fails in your environment, you may already have them.\n",
    "# Remove the leading % if running outside Jupyter.\n",
    "%pip install ecdsa eth-utils eth-keys 'eth-hash[pycryptodome]' base58 -q"
   ],
   "outputs": [
    {
     "name": "stdout",
     "output_type": "stream",
     "text": [
      "Note: you may need to restart the kernel to use updated packages.\n"
     ]
    },
    {
     "name": "stderr",
     "output_type": "stream",
     "text": [
      "ERROR: Invalid requirement: \"'eth-hash[pycryptodome]'\": Expected package name at the start of dependency specifier\n",
      "    'eth-hash[pycryptodome]'\n",
      "    ^\n"
     ]
    }
   ],
   "execution_count": 6
  },
  {
   "cell_type": "markdown",
   "id": "5881d61b",
   "metadata": {},
   "source": [
    "## 1) Private key → Public key (same curve for BTC & ETH)\n",
    "- A **private key** is just a random 32‑byte number.\n",
    "- A **public key** is derived from it using elliptic‑curve math (secp256k1).\n",
    "- Public keys can be shown **uncompressed (65 bytes)** or **compressed (33 bytes)**.\n",
    "\n",
    "👉 We'll generate a keypair and show both public‑key formats."
   ]
  },
  {
   "cell_type": "code",
   "id": "49cd4d45",
   "metadata": {
    "ExecuteTime": {
     "end_time": "2025-08-28T03:20:15.789976Z",
     "start_time": "2025-08-28T03:20:15.777609Z"
    }
   },
   "source": [
    "from ecdsa import SigningKey, SECP256k1\n",
    "import os\n",
    "\n",
    "# Generate a random 32-byte private key\n",
    "priv = os.urandom(32)\n",
    "sk = SigningKey.from_string(priv, curve=SECP256k1)\n",
    "vk = sk.verifying_key\n",
    "\n",
    "# Build uncompressed and compressed public keys\n",
    "x = vk.pubkey.point.x(); y = vk.pubkey.point.y()\n",
    "x_bytes = x.to_bytes(32, 'big'); y_bytes = y.to_bytes(32, 'big')\n",
    "pub_uncompressed = b'\\x04' + x_bytes + y_bytes\n",
    "pub_compressed = (b'\\x02' if (y % 2 == 0) else b'\\x03') + x_bytes\n",
    "\n",
    "print('Private key (hex):', priv.hex())\n",
    "print('Public key (uncompressed, 65B):', pub_uncompressed.hex())\n",
    "print('Public key (compressed, 33B):', pub_compressed.hex())"
   ],
   "outputs": [
    {
     "name": "stdout",
     "output_type": "stream",
     "text": [
      "Private key (hex): 0db8c11988985cb23539f7e82108da86343a03dcf6cb9ccaa763b52911ce58b8\n",
      "Public key (uncompressed, 65B): 048b7700bdd3d1465fc1730fc2ec5bbcbfa6bca6a228774130928d624ab76caa0a4bd2a240036bad9b6bad827bee6186fb8e37dc21e79b0145d8c13cf512b4bc80\n",
      "Public key (compressed, 33B): 028b7700bdd3d1465fc1730fc2ec5bbcbfa6bca6a228774130928d624ab76caa0a\n"
     ]
    }
   ],
   "execution_count": 8
  },
  {
   "cell_type": "markdown",
   "id": "e915d690",
   "metadata": {},
   "source": [
    "## 2) Hash functions (SHA‑256 vs Keccak‑256)\n",
    "- A **hash** turns any input into a fixed‑size output.\n",
    "- **Bitcoin** uses **SHA‑256** a lot.\n",
    "- **Ethereum** uses **Keccak‑256** (note: this is *not* the same as `hashlib.sha3_256`)."
   ]
  },
  {
   "cell_type": "code",
   "id": "3fce668d",
   "metadata": {
    "ExecuteTime": {
     "end_time": "2025-08-28T03:20:21.789061Z",
     "start_time": "2025-08-28T03:20:21.689999Z"
    }
   },
   "source": [
    "import hashlib\n",
    "from eth_utils import keccak\n",
    "\n",
    "data = b'hello world'\n",
    "print('SHA-256   :', hashlib.sha256(data).hexdigest())\n",
    "print('SHA3-256  :', hashlib.sha3_256(data).hexdigest())\n",
    "print('Keccak-256:', keccak(data).hex())"
   ],
   "outputs": [
    {
     "name": "stdout",
     "output_type": "stream",
     "text": [
      "SHA-256   : b94d27b9934d3e08a52e52d7da7dabfac484efe37a5380ee9088f7ace2efcde9\n",
      "SHA3-256  : 644bcc7e564373040999aac89e7622f3ca71fba1d972fd94a31c3bfbf24e3938\n",
      "Keccak-256: 47173285a8d7341e5e972fc677286384f802f8ef42a5ec5f03bbfa254cb01fad\n"
     ]
    }
   ],
   "execution_count": 9
  },
  {
   "cell_type": "markdown",
   "id": "ec76791b",
   "metadata": {},
   "source": [
    "## 3) Bitcoin legacy address (P2PKH, starts with `1…`)\n",
    "Formula (don’t memorize — just understand the flow):\n",
    "1. `HASH160(pubkey)` = `RIPEMD‑160(SHA‑256(pubkey))` → 20 bytes\n",
    "2. Prepend **version byte** `0x00` for mainnet (testnet uses `0x6F`)\n",
    "3. Base58Check‑encode the result (this adds a 4‑byte checksum automatically)\n",
    "\n",
    "👉 We'll make an address from the **compressed** pubkey we generated."
   ]
  },
  {
   "cell_type": "code",
   "id": "b6d368b3",
   "metadata": {
    "ExecuteTime": {
     "end_time": "2025-08-28T03:20:36.465266Z",
     "start_time": "2025-08-28T03:20:36.446509Z"
    }
   },
   "source": [
    "import hashlib, base58\n",
    "\n",
    "def hash160(b: bytes) -> bytes:\n",
    "    return hashlib.new('ripemd160', hashlib.sha256(b).digest()).digest()\n",
    "\n",
    "def btc_p2pkh_address(pubkey_compressed: bytes, mainnet: bool = True) -> str:\n",
    "    vh160 = (b'\\x00' if mainnet else b'\\x6F') + hash160(pubkey_compressed)\n",
    "    return base58.b58encode_check(vh160).decode()\n",
    "\n",
    "btc_addr = btc_p2pkh_address(pub_compressed, mainnet=True)\n",
    "print('Bitcoin P2PKH address:', btc_addr)"
   ],
   "outputs": [
    {
     "name": "stdout",
     "output_type": "stream",
     "text": [
      "Bitcoin P2PKH address: 1BB2N3h2Msz4gcsqUqeEKn6W8xk9BboJYV\n"
     ]
    }
   ],
   "execution_count": 10
  },
  {
   "cell_type": "markdown",
   "id": "315cb75c",
   "metadata": {},
   "source": [
    "## 4) Export the private key as WIF (Wallet Import Format)\n",
    "- WIF packs the private key + a flag for “compressed pubkey” + checksum.\n",
    "- Mainnet WIF uses version byte `0x80`.\n",
    "- If your pubkey is compressed, append `0x01` before encoding.\n",
    "\n",
    "👉 Most wallets accept WIF so you can import this key easily (on testnets only for practice)."
   ]
  },
  {
   "cell_type": "code",
   "id": "50684f11",
   "metadata": {
    "ExecuteTime": {
     "end_time": "2025-08-28T03:20:39.547321Z",
     "start_time": "2025-08-28T03:20:39.540798Z"
    }
   },
   "source": [
    "def btc_wif_from_priv(privkey: bytes, compressed: bool = True, mainnet: bool = True) -> str:\n",
    "    version = b'\\x80' if mainnet else b'\\xEF'\n",
    "    payload = version + privkey + (b'\\x01' if compressed else b'')\n",
    "    return base58.b58encode_check(payload).decode()\n",
    "\n",
    "wif = btc_wif_from_priv(priv, compressed=True, mainnet=True)\n",
    "print('WIF (keep secret!):', wif)"
   ],
   "outputs": [
    {
     "name": "stdout",
     "output_type": "stream",
     "text": [
      "WIF (keep secret!): KwgPEFZw8iwsXVetCdyeDw86fX9AgasxoWNTjcyZoy1fWBdvC21z\n"
     ]
    }
   ],
   "execution_count": 11
  },
  {
   "cell_type": "markdown",
   "id": "e5954f4d",
   "metadata": {},
   "source": [
    "## 5) Ethereum address (starts with `0x…`)\n",
    "Steps:\n",
    "1. Take the **uncompressed** public key **without** the `0x04` prefix (so 64 bytes = X||Y).\n",
    "2. `Keccak‑256` it and keep the **last 20 bytes**.\n",
    "3. Apply the **EIP‑55** mixed‑case checksum for easier reading.\n",
    "\n",
    "👉 We'll generate it from the same private key."
   ]
  },
  {
   "cell_type": "code",
   "id": "120afabc",
   "metadata": {
    "ExecuteTime": {
     "end_time": "2025-08-28T03:20:43.746627Z",
     "start_time": "2025-08-28T03:20:43.733862Z"
    }
   },
   "source": [
    "from eth_keys import keys\n",
    "from eth_utils import keccak, to_checksum_address\n",
    "\n",
    "eth_sk = keys.PrivateKey(priv)\n",
    "eth_vk = eth_sk.public_key\n",
    "pubkey_64 = eth_vk.to_bytes()  # 64 bytes X||Y\n",
    "addr_bytes = keccak(pubkey_64)[-20:]\n",
    "addr_hex = '0x' + addr_bytes.hex()\n",
    "addr_eip55 = to_checksum_address(addr_hex)\n",
    "\n",
    "print('Ethereum (no checksum):', addr_hex)\n",
    "print('Ethereum (EIP-55)    :', addr_eip55)"
   ],
   "outputs": [
    {
     "name": "stdout",
     "output_type": "stream",
     "text": [
      "Ethereum (no checksum): 0xa2a374922196562c4aa85a8b3a527508820132f3\n",
      "Ethereum (EIP-55)    : 0xA2a374922196562c4aa85a8B3A527508820132F3\n"
     ]
    }
   ],
   "execution_count": 12
  },
  {
   "cell_type": "markdown",
   "id": "98de3510",
   "metadata": {},
   "source": [
    "## 6) Sign & verify a message (minimal)\n",
    "- **Bitcoin-style demo:** sign the SHA‑256 of a message using ECDSA.\n",
    "- **Ethereum-style demo:** sign the Keccak‑256 of a message.\n",
    "\n",
    "*(This is a teaching demo. Real wallets also add prefixes like `\"\\x18Ethereum Signed Message:\\n…\"` before hashing.)*"
   ]
  },
  {
   "cell_type": "code",
   "id": "3615035f",
   "metadata": {
    "ExecuteTime": {
     "end_time": "2025-08-28T03:20:51.367209Z",
     "start_time": "2025-08-28T03:20:51.338285Z"
    }
   },
   "source": [
    "import hashlib\n",
    "from ecdsa import BadSignatureError\n",
    "\n",
    "msg = b'hello class'\n",
    "\n",
    "# Bitcoin-ish (hash with SHA-256)\n",
    "btc_msg_hash = hashlib.sha256(msg).digest()\n",
    "sig_der = sk.sign_deterministic(btc_msg_hash)\n",
    "print('ECDSA signature (DER hex):', sig_der.hex())\n",
    "print('Verify (SHA-256) OK?:', sk.verifying_key.verify(sig_der, btc_msg_hash))\n",
    "\n",
    "# Ethereum-ish (hash with Keccak-256)\n",
    "eth_msg_hash = keccak(msg)\n",
    "eth_signature = eth_sk.sign_msg_hash(eth_msg_hash)\n",
    "print('Ethereum signature (r||s||v hex):', eth_signature.to_bytes().hex())\n",
    "print('Verify (Keccak-256) OK?:', eth_sk.public_key.verify_msg_hash(eth_msg_hash, eth_signature))"
   ],
   "outputs": [
    {
     "name": "stdout",
     "output_type": "stream",
     "text": [
      "ECDSA signature (DER hex): 7587ab5e29dfdcc97ba0ff06d8a4c4be9dc2f857055e3df1f2a97373b146786b78f6374d38f1172ed0849c719c88c0db90ca6b3b6ce0bf4c3f896fe34eb8b108\n",
      "Verify (SHA-256) OK?: True\n",
      "Ethereum signature (r||s||v hex): e64b48230ac0862a83077cbece5ed697d2369891df39a0ccfb6c9a858ba6cc9146194330da597acdafcce0c766993faf858de1e9737156fd12fad60f49e1083400\n",
      "Verify (Keccak-256) OK?: True\n"
     ]
    }
   ],
   "execution_count": 13
  },
  {
   "cell_type": "markdown",
   "id": "8dc8fdaa",
   "metadata": {},
   "source": [
    "## 7) Checksums catch typos\n",
    "- Base58Check has a 4‑byte checksum. If you mistype an address, decoding should fail.\n",
    "- EIP‑55 uses **mixed‑case** to detect many common mistakes in Ethereum addresses."
   ]
  },
  {
   "cell_type": "code",
   "id": "16e33b11",
   "metadata": {
    "ExecuteTime": {
     "end_time": "2025-08-28T03:20:59.777526Z",
     "start_time": "2025-08-28T03:20:59.769589Z"
    }
   },
   "source": [
    "# Try corrupting one character of the Bitcoin address and decode\n",
    "bad_btc = btc_addr[:5] + ('1' if btc_addr[5] != '1' else '2') + btc_addr[6:]\n",
    "try:\n",
    "    base58.b58decode_check(bad_btc)\n",
    "    print('Unexpectedly valid (rare).')\n",
    "except Exception as e:\n",
    "    print('Checksum caught the error:', e)\n",
    "\n",
    "# Try changing letter case in the checksummed ETH address (often breaks validation in wallets)\n",
    "print('Original EIP-55:', addr_eip55)\n",
    "tweaked = '0x' + addr_eip55[2:].swapcase()\n",
    "print('Tweaked case   :', tweaked)\n",
    "print('Note: Proper validators will reject the wrong casing.')"
   ],
   "outputs": [
    {
     "name": "stdout",
     "output_type": "stream",
     "text": [
      "Checksum caught the error: Invalid checksum\n",
      "Original EIP-55: 0xA2a374922196562c4aa85a8B3A527508820132F3\n",
      "Tweaked case   : 0xa2A374922196562C4AA85A8b3a527508820132f3\n",
      "Note: Proper validators will reject the wrong casing.\n"
     ]
    }
   ],
   "execution_count": 14
  },
  {
   "cell_type": "markdown",
   "id": "485b68ca",
   "metadata": {},
   "source": [
    "## Practice (do these on your own)\n",
    "1. Generate **three** new keypairs. Make Bitcoin & Ethereum addresses for each.\n",
    "2. Export each private key as **WIF** and then import into a testnet wallet (never mainnet for class demos).\n",
    "3. Change **one character** in each Bitcoin address and confirm that Base58Check decoding fails.\n",
    "4. Take any Ethereum address, remove `0x`, lowercase it, and rebuild the **EIP‑55** version.\n",
    "5. (Stretch) Read about Bech32 (SegWit) and try making a `bc1…` address using a library."
   ]
  }
 ],
 "metadata": {
  "kernelspec": {
   "name": "python3",
   "language": "python",
   "display_name": "Python 3 (ipykernel)"
  }
 },
 "nbformat": 4,
 "nbformat_minor": 5
}
