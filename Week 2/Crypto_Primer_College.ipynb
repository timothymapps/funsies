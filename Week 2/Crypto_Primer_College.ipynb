{
 "cells": [
  {
   "cell_type": "markdown",
   "id": "fd1f4964",
   "metadata": {},
   "source": [
    "# Crypto Foundations: Keys, Wallets, Hashes, Mnemonics, and Signatures\n",
    "_A college‑level hands‑on primer with Python examples and visualizations_"
   ]
  },
  {
   "cell_type": "markdown",
   "id": "a26899f6",
   "metadata": {},
   "source": [
    "\n",
    "## What you'll learn\n",
    "- Core terminology and mental models in cryptography\n",
    "- How public/private keys work (with Elliptic Curve Cryptography on secp256k1 and Ed25519)\n",
    "- Mnemonics (BIP‑39), seeds, and how wallets derive keys\n",
    "- Hashing in practice: **SHA‑256 (Bitcoin)**, **Keccak‑256 (Ethereum)**, **BLAKE2**, and **xxHash**\n",
    "- Symmetric vs asymmetric encryption (AES‑GCM, RSA‑OAEP)\n",
    "- Digital signatures (ECDSA secp256k1, Ed25519, and RSA‑PSS)\n",
    "- Visualizing avalanche effect and benchmarking hash functions\n",
    "- Address formats (Bitcoin Base58Check, Ethereum hex address, Polkadot SS58 basics)\n"
   ]
  },
  {
   "cell_type": "markdown",
   "id": "d14ab157",
   "metadata": {},
   "source": [
    "## Setup"
   ]
  },
  {
   "cell_type": "code",
   "id": "f37594f6",
   "metadata": {
    "ExecuteTime": {
     "end_time": "2025-08-28T13:18:30.621737Z",
     "start_time": "2025-08-28T13:18:30.614727Z"
    }
   },
   "source": [
    "\n",
    "# If running on a clean environment, uncomment the next lines to install dependencies.\n",
    "# Note: Internet access may be required the first time you run these.\n",
    "# %pip install matplotlib numpy pycryptodome ecdsa mnemonic xxhash bip-utils\n",
    "\n",
    "import sys, platform, os, time, binascii, math, json, random, secrets, textwrap\n",
    "print(\"Python:\", sys.version)\n",
    "print(\"Platform:\", platform.platform())\n"
   ],
   "outputs": [
    {
     "name": "stdout",
     "output_type": "stream",
     "text": [
      "Python: 3.11.3 (tags/v3.11.3:f3909b8, Apr  4 2023, 23:49:59) [MSC v.1934 64 bit (AMD64)]\n",
      "Platform: Windows-10-10.0.26100-SP0\n"
     ]
    }
   ],
   "execution_count": 1
  },
  {
   "cell_type": "markdown",
   "id": "07440c96",
   "metadata": {},
   "source": [
    "\n",
    "## Intro to Cryptography — Useful Terms & Mental Models\n",
    "\n",
    "- **Confidentiality**: Only intended parties can read a message (encryption).\n",
    "- **Integrity**: Data cannot be tampered with without detection (hashes, MACs, signatures).\n",
    "- **Authentication**: Proving who you are (signatures, certificates).\n",
    "- **Non‑repudiation**: A signer cannot credibly deny an action (digital signatures with audit).\n",
    "- **Deterministic** vs **randomized** algorithms: hashing is deterministic; signatures often randomized (or derive deterministic nonces).\n",
    "- **One‑way functions**: Easy to compute, hard to invert (hashes).\n",
    "- **Entropy**: Measure of unpredictability; crucial for keys/nonces.\n",
    "- **Key Derivation**: Deriving keys from seeds/passwords (PBKDF2, HKDF, scrypt, Argon2).\n",
    "- **Public‑key crypto**: Key pair (private key + public key). Enables signatures and key exchange.\n",
    "- **Symmetric crypto**: Same key for encryption & decryption (e.g., AES).\n"
   ]
  },
  {
   "cell_type": "markdown",
   "id": "333ebc2f",
   "metadata": {},
   "source": [
    "## Hash Functions in Practice: SHA‑256 (Bitcoin), Keccak‑256 (Ethereum), BLAKE2, xxHash"
   ]
  },
  {
   "cell_type": "markdown",
   "id": "4fc95cbe",
   "metadata": {},
   "source": [
    "\n",
    "**Why hashing matters**: hashes are fingerprints of data, used in blockchains for blocks, transactions, Merkle trees, addresses, and signatures.\n",
    "\n",
    "Below, we compute common hashes. Notes:\n",
    "- Bitcoin uses **double‑SHA‑256** in several places (e.g., block headers).\n",
    "- Ethereum uses **Keccak‑256** (slightly different from standardized SHA‑3).\n",
    "- Polkadot & Substrate commonly use **BLAKE2**; **xxHash** is used for fast non‑cryptographic hashing in places (e.g., storage maps).\n",
    "\n",
    "> ⚠️ *Keccak vs SHA‑3:* Ethereum's **Keccak‑256** differs in padding from **SHA3‑256**. We use PyCryptodome's `Crypto.Hash.keccak` for Ethereum‑style Keccak.\n"
   ]
  },
  {
   "cell_type": "code",
   "id": "60f48412",
   "metadata": {
    "ExecuteTime": {
     "end_time": "2025-08-28T13:18:30.790749Z",
     "start_time": "2025-08-28T13:18:30.717742Z"
    }
   },
   "source": [
    "\n",
    "from Crypto.Hash import SHA256, RIPEMD160, keccak, BLAKE2b\n",
    "import xxhash\n",
    "\n",
    "def sha256(data: bytes) -> bytes:\n",
    "    return SHA256.new(data).digest()\n",
    "\n",
    "def double_sha256(data: bytes) -> bytes:\n",
    "    return sha256(sha256(data))\n",
    "\n",
    "def keccak_256(data: bytes) -> bytes:\n",
    "    k = keccak.new(digest_bits=256)\n",
    "    k.update(data)\n",
    "    return k.digest()\n",
    "\n",
    "def blake2b_256(data: bytes) -> bytes:\n",
    "    # BLAKE2b can be parameterized to 256-bit output\n",
    "    h = BLAKE2b.new(digest_bits=256)\n",
    "    h.update(data)\n",
    "    return h.digest()\n",
    "\n",
    "def xxhash_64(data: bytes) -> bytes:\n",
    "    # xxHash is non-cryptographic; here we use 64-bit variant for demo\n",
    "    # Represent the 64-bit integer as 8 bytes big-endian\n",
    "    x = xxhash.xxh64(data).intdigest()\n",
    "    return x.to_bytes(8, \"big\")\n",
    "\n",
    "msg = b\"hello crypto world\"\n",
    "print(\"SHA-256:\", sha256(msg).hex())\n",
    "print(\"Double-SHA-256:\", double_sha256(msg).hex())\n",
    "print(\"Keccak-256:\", keccak_256(msg).hex())\n",
    "print(\"BLAKE2b-256:\", blake2b_256(msg).hex())\n",
    "print(\"xxHash64:\", xxhash_64(msg).hex(), \"(non-cryptographic)\")\n"
   ],
   "outputs": [
    {
     "name": "stdout",
     "output_type": "stream",
     "text": [
      "SHA-256: 7a3e2483e16d358efd44356e7672a0f7ab1a692443a4590194345fb006f0088e\n",
      "Double-SHA-256: 7f352e1f1ffd8b00bc1b44e69de614949fba5cc9534549db95ef534ef501384e\n",
      "Keccak-256: a38587c40d347cfefb79287e822170ca1e9afadd2c8f3233d3fd30b57aa1dc57\n",
      "BLAKE2b-256: a09fac14004e2b5f30f0d61e8a96fb54016da7d5967d913e55a04c5e6776daa5\n",
      "xxHash64: a132b6659eb3a155 (non-cryptographic)\n"
     ]
    }
   ],
   "execution_count": 2
  },
  {
   "cell_type": "markdown",
   "id": "b32e0f76",
   "metadata": {},
   "source": [
    "### Visualizing Avalanche Effect"
   ]
  },
  {
   "cell_type": "markdown",
   "id": "df90ee5d",
   "metadata": {},
   "source": [
    "Small input changes should flip ~50% of hash bits on average. We'll measure bit differences between `X` and `X'` = `X` with one character changed."
   ]
  },
  {
   "cell_type": "code",
   "id": "a30e42ac",
   "metadata": {
    "ExecuteTime": {
     "end_time": "2025-08-28T13:18:32.713441Z",
     "start_time": "2025-08-28T13:18:30.809211Z"
    }
   },
   "source": [
    "\n",
    "import numpy as np\n",
    "import matplotlib.pyplot as plt\n",
    "\n",
    "def bit_distance(a: bytes, b: bytes) -> int:\n",
    "    # Hamming distance in bits\n",
    "    return sum(bin(x ^ y).count(\"1\") for x, y in zip(a, b))\n",
    "\n",
    "def avalanche_demo(hash_fn, base: bytes, trials=40):\n",
    "    dists = []\n",
    "    for i in range(trials):\n",
    "        # Flip one random byte\n",
    "        idx = secrets.randbelow(len(base))\n",
    "        mutated = bytearray(base)\n",
    "        mutated[idx] ^= 1  # flip lowest bit of one byte\n",
    "        d = bit_distance(hash_fn(base), hash_fn(mutated))\n",
    "        dists.append(d)\n",
    "    return np.array(dists)\n",
    "\n",
    "base = b\"Blockchains are built on cryptographic hash functions.\\n\"\n",
    "hashers = [(\"SHA-256\", sha256), (\"Keccak-256\", keccak_256), (\"BLAKE2b-256\", blake2b_256)]\n",
    "for name, hf in hashers:\n",
    "    d = avalanche_demo(hf, base, trials=64)\n",
    "    plt.figure()\n",
    "    plt.hist(d, bins=16)\n",
    "    plt.title(f\"Avalanche effect (bit flips): {name}\")\n",
    "    plt.xlabel(\"Bit flips\")\n",
    "    plt.ylabel(\"Count\")\n",
    "    plt.show()\n"
   ],
   "outputs": [
    {
     "data": {
      "text/plain": [
       "<Figure size 640x480 with 1 Axes>"
      ],
      "image/png": "[encoded data removed]"
     },
     "metadata": {},
     "output_type": "display_data"
    },
    {
     "data": {
      "text/plain": [
       "<Figure size 640x480 with 1 Axes>"
      ],
      "image/png": "[encoded data removed]"
     },
     "metadata": {},
     "output_type": "display_data"
    },
    {
     "data": {
      "text/plain": [
       "<Figure size 640x480 with 1 Axes>"
      ],
      "image/png": "[encoded data removed]"
     },
     "metadata": {},
     "output_type": "display_data"
    }
   ],
   "execution_count": 3
  },
  {
   "cell_type": "markdown",
   "id": "eb0bf611",
   "metadata": {},
   "source": [
    "### Benchmarking Hash Speeds"
   ]
  },
  {
   "cell_type": "markdown",
   "id": "b7b59eeb",
   "metadata": {},
   "source": [
    "We benchmark hash times across different message sizes. (Times depend on your machine; this provides relative intuition.)"
   ]
  },
  {
   "cell_type": "code",
   "id": "5c89bb26",
   "metadata": {
    "ExecuteTime": {
     "end_time": "2025-08-28T13:18:33.759536Z",
     "start_time": "2025-08-28T13:18:33.144421Z"
    }
   },
   "source": [
    "\n",
    "import time, statistics\n",
    "\n",
    "rng = secrets.SystemRandom()\n",
    "sizes = [2**k for k in range(6, 20, 2)]  # 64B .. 512KB\n",
    "fns = [(\"SHA-256\", sha256), (\"Keccak-256\", keccak_256), (\"BLAKE2b-256\", blake2b_256)]\n",
    "\n",
    "import matplotlib.pyplot as plt\n",
    "\n",
    "for name, fn in fns:\n",
    "    times = []\n",
    "    for sz in sizes:\n",
    "        data = rng.randbytes(sz)\n",
    "        t0 = time.perf_counter()\n",
    "        for _ in range(25):\n",
    "            fn(data)\n",
    "        t1 = time.perf_counter()\n",
    "        times.append((t1 - t0) / 25.0)\n",
    "    plt.figure()\n",
    "    plt.plot(sizes, times, marker=\"o\")\n",
    "    plt.title(f\"Hash time vs size: {name}\")\n",
    "    plt.xlabel(\"Message size (bytes)\")\n",
    "    plt.ylabel(\"Seconds per hash (approx)\")\n",
    "    plt.xscale(\"log\")\n",
    "    plt.yscale(\"log\")\n",
    "    plt.show()\n"
   ],
   "outputs": [
    {
     "data": {
      "text/plain": [
       "<Figure size 640x480 with 1 Axes>"
      ],
      "image/png": "[encoded data removed]"
     },
     "metadata": {},
     "output_type": "display_data"
    },
    {
     "data": {
      "text/plain": [
       "<Figure size 640x480 with 1 Axes>"
      ],
      "image/png": "[encoded data removed]"
     },
     "metadata": {},
     "output_type": "display_data"
    },
    {
     "data": {
      "text/plain": [
       "<Figure size 640x480 with 1 Axes>"
      ],
      "image/png": "[encoded data removed]"
     },
     "metadata": {},
     "output_type": "display_data"
    }
   ],
   "execution_count": 4
  },
  {
   "cell_type": "markdown",
   "id": "1fc0e841",
   "metadata": {},
   "source": [
    "## Public & Private Keys — Elliptic Curve Cryptography (ECC)"
   ]
  },
  {
   "cell_type": "markdown",
   "id": "d0fd36f0",
   "metadata": {},
   "source": [
    "\n",
    "We'll use two common curves:\n",
    "- **secp256k1** (used by Bitcoin & Ethereum) for ECDSA signatures\n",
    "- **Ed25519** (used widely including some Polkadot contexts) for fast, safe signatures\n",
    "\n",
    "We'll derive an **Ethereum address** from a secp256k1 public key (Keccak‑256, last 20 bytes) and a **Bitcoin P2PKH** address (Base58Check over `ripemd160(sha256(pubkey))`, with version prefix).\n",
    "We also demonstrate **SS58** address formatting (as used by Polkadot/Substrate) conceptually.\n"
   ]
  },
  {
   "cell_type": "code",
   "id": "21cf51e1",
   "metadata": {
    "ExecuteTime": {
     "end_time": "2025-08-28T13:18:33.848030Z",
     "start_time": "2025-08-28T13:18:33.784071Z"
    }
   },
   "source": [
    "from ecdsa import SigningKey, SECP256k1\n",
    "from Crypto.PublicKey import ECC\n",
    "from Crypto.Hash import SHA256, RIPEMD160, keccak, BLAKE2b\n",
    "import base64\n",
    "\n",
    "# --- Utilities ---\n",
    "alphabet = b\"123456789ABCDEFGHJKLMNPQRSTUVWXYZabcdefghijkmnopqrstuvwxyz\"\n",
    "\n",
    "def base58_encode(b: bytes) -> str:\n",
    "    n = int.from_bytes(b, \"big\")\n",
    "    res = bytearray()\n",
    "    while n > 0:\n",
    "        n, r = divmod(n, 58)\n",
    "        res.append(alphabet[r])\n",
    "    # leading zeros\n",
    "    pad = 0\n",
    "    for ch in b:\n",
    "        if ch == 0:\n",
    "            pad += 1\n",
    "        else:\n",
    "            break\n",
    "    return (alphabet[0:1] * pad + res[::-1]).decode()\n",
    "\n",
    "def sha256(data: bytes) -> bytes:\n",
    "    return SHA256.new(data).digest()\n",
    "\n",
    "def double_sha256(data: bytes) -> bytes:\n",
    "    return sha256(sha256(data))\n",
    "\n",
    "def base58check_encode(version: bytes, payload: bytes) -> str:\n",
    "    vh = version + payload\n",
    "    checksum = double_sha256(vh)[:4]\n",
    "    return base58_encode(vh + checksum)\n",
    "\n",
    "def eth_address_from_pubkey(uncompressed_pubkey: bytes) -> str:\n",
    "    # Ethereum address = last 20 bytes of Keccak-256 of 64-byte X||Y (without 0x04 prefix)\n",
    "    assert uncompressed_pubkey[0] == 0x04 and len(uncompressed_pubkey) == 65\n",
    "    k = keccak.new(digest_bits=256)\n",
    "    k.update(uncompressed_pubkey[1:])  # drop 0x04\n",
    "    return \"0x\" + k.digest()[-20:].hex()\n",
    "\n",
    "def btc_p2pkh_from_pubkey(uncompressed_pubkey: bytes, mainnet=True) -> str:\n",
    "    h160 = RIPEMD160.new(SHA256.new(uncompressed_pubkey).digest()).digest()\n",
    "    version = b\"\\x00\" if mainnet else b\"\\x6f\"\n",
    "    return base58check_encode(version, h160)\n",
    "\n",
    "# --- secp256k1 keypair & addresses (using 'ecdsa' lib for k1) ---\n",
    "sk = SigningKey.generate(curve=SECP256k1)               # private key\n",
    "vk = sk.get_verifying_key()\n",
    "# Uncompressed pubkey: 0x04 || X || Y\n",
    "uncompressed = b\"\\x04\" + vk.to_string()\n",
    "eth_addr = eth_address_from_pubkey(uncompressed)\n",
    "btc_addr = btc_p2pkh_from_pubkey(uncompressed, mainnet=True)\n",
    "\n",
    "print(\"secp256k1 private key (hex):\", sk.to_string().hex())\n",
    "print(\"Ethereum address:\", eth_addr)\n",
    "print(\"Bitcoin P2PKH address:\", btc_addr)\n",
    "\n",
    "# --- Ed25519 key for SS58 demo (via ECC) ---\n",
    "# Per docs: ECC supports curve='Ed25519'; EdDSA is in Crypto.Signature.eddsa\n",
    "# Export the public key in 'raw' format (32 bytes) for SS58.\n",
    "ed_key = ECC.generate(curve=\"Ed25519\")  # Ed25519 via ECC\n",
    "ed_pub = ed_key.public_key().export_key(format=\"raw\")  # 32 bytes\n",
    "\n",
    "def ss58_address(pubkey: bytes, ss58_prefix=42):\n",
    "    # SS58 format (simplified): base58( [prefix_varint] + pubkey + checksum[:2] )\n",
    "    # Checksum = blake2b_512(\"SS58PRE\" || [prefix_varint] + pubkey), take first 2 bytes\n",
    "    def to_ss58_format(prefix: int) -> bytes:\n",
    "        if prefix < 64:  # simple one-byte varint for small prefixes\n",
    "            return bytes([prefix])\n",
    "        raise ValueError(\"Demo supports ss58_prefix < 64 only\")\n",
    "\n",
    "    data = to_ss58_format(ss58_prefix) + pubkey\n",
    "    chk = BLAKE2b.new(digest_bits=512, data=b\"SS58PRE\" + data).digest()[:2]\n",
    "    raw = data + chk\n",
    "    return base58_encode(raw)\n",
    "\n",
    "print(\"Ed25519 public key (hex):\", ed_pub.hex())\n",
    "print(\"Substrate-style SS58 (prefix 42) demo:\", ss58_address(ed_pub, 42))\n"
   ],
   "outputs": [
    {
     "name": "stdout",
     "output_type": "stream",
     "text": [
      "secp256k1 private key (hex): 21cb1740264f6f2d3f17791413a97d90d42328ded8198434ea294fb13ba6d8f6\n",
      "Ethereum address: 0x7b061bdf7a3b1a2846fc2733139cf628bc8b005a\n",
      "Bitcoin P2PKH address: 1JT9ycATG9XSxYrYHkkGJgRbRLWQ5cdaer\n",
      "Ed25519 public key (hex): df2bbc46003da0b0573d7c254e514f6b073421c666e7a4362b9ca6dd7284a9b2\n",
      "Substrate-style SS58 (prefix 42) demo: 5H7KXZ4mu4zc8QoHQXaTg1rwNm38USv6RgQ2v8JSQ1qG47fT\n"
     ]
    }
   ],
   "execution_count": 5
  },
  {
   "cell_type": "markdown",
   "id": "91b938d5",
   "metadata": {},
   "source": [
    "## Mnemonics (BIP‑39), Seeds, and HD Wallets (BIP‑32/44)"
   ]
  },
  {
   "cell_type": "markdown",
   "id": "e2e8e9ac",
   "metadata": {},
   "source": [
    "\n",
    "**Mnemonic** phrases encode entropy into human‑readable words (BIP‑39). A **seed** is derived from the mnemonic (and optional passphrase), then used for hierarchical key derivation (BIP‑32/44).\n",
    "Below we generate a mnemonic, derive a seed, and (optionally) derive a child key.\n"
   ]
  },
  {
   "cell_type": "code",
   "id": "667f7e9a",
   "metadata": {
    "ExecuteTime": {
     "end_time": "2025-08-28T13:18:33.870753Z",
     "start_time": "2025-08-28T13:18:33.859036Z"
    }
   },
   "source": [
    "\n",
    "from mnemonic import Mnemonic\n",
    "import hmac, hashlib, struct\n",
    "\n",
    "mnemo = Mnemonic(\"english\")\n",
    "mnemonic = mnemo.generate(strength=128)  # 12 words (128 bits entropy); use 256 bits for 24 words\n",
    "seed = Mnemonic.to_seed(mnemonic, passphrase=\"\")  # never show this in production\n",
    "\n",
    "print(\"Mnemonic:\", mnemonic)\n",
    "print(\"Seed (hex, first 64 bytes):\", seed[:64].hex())\n",
    "\n",
    "# Minimal BIP32 (non-hardened) child key derivation demo using HMAC-SHA512\n",
    "# This is educational and omits many safety checks; prefer battle-tested libraries for production use.\n",
    "def hmac_sha512(key, data): return hmac.new(key, data, hashlib.sha512).digest()\n",
    "\n",
    "# Master key & chain code from BIP32\n",
    "I = hmac_sha512(b\"Bitcoin seed\", seed)\n",
    "master_priv = I[:32]\n",
    "master_chain = I[32:]\n",
    "\n",
    "print(\"Master private key (hex):\", master_priv.hex())\n",
    "print(\"Master chain code (hex, first 16):\", master_chain[:16].hex())\n",
    "\n",
    "# Derive child 0 (non-hardened) from master using secp256k1\n",
    "from ecdsa import SECP256k1, SigningKey, util\n",
    "from ecdsa.ecdsa import int_to_string\n",
    "\n",
    "def CKD_priv(k_par, c_par, index):\n",
    "    # Serialize parent public key in compressed form\n",
    "    K_par = SigningKey.from_string(k_par, curve=SECP256k1).verifying_key\n",
    "    x, y = K_par.pubkey.point.x(), K_par.pubkey.point.y()\n",
    "    prefix = b\"\\x02\" if (y % 2 == 0) else b\"\\x03\"\n",
    "    ser_P = prefix + x.to_bytes(32, \"big\")\n",
    "\n",
    "    I = hmac_sha512(c_par, ser_P + index.to_bytes(4, \"big\"))\n",
    "    Il, Ir = I[:32], I[32:]\n",
    "    k_i = (int.from_bytes(Il, \"big\") + int.from_bytes(k_par, \"big\")) % SECP256k1.order\n",
    "    return k_i.to_bytes(32, \"big\"), Ir\n",
    "\n",
    "child0_priv, child0_chain = CKD_priv(master_priv, master_chain, 0)\n",
    "print(\"Child #0 private key:\", child0_priv.hex())\n"
   ],
   "outputs": [
    {
     "name": "stdout",
     "output_type": "stream",
     "text": [
      "Mnemonic: mirror fever ribbon daughter double rescue canoe orient column pave laugh illness\n",
      "Seed (hex, first 64 bytes): 466ba79f4e45fdf8db79991c89e94444df7541c96b7a5812207d56c195a17c8fa876b3ce419c9e80b42230057929fe228c61e330256dc11a1f2b806fb9d5e12b\n",
      "Master private key (hex): 8412dd38ab0c18a02a5d55b056e3b0904bda0b6aec298777a495b193b054eeb6\n",
      "Master chain code (hex, first 16): 52881d3eeb9ecb0bd842335e2f6d9ead\n",
      "Child #0 private key: c961c448d2c6a7256baafd152ace0473ba52062a71b864570af0b429bcabf544\n"
     ]
    }
   ],
   "execution_count": 6
  },
  {
   "cell_type": "markdown",
   "id": "77183bec",
   "metadata": {},
   "source": [
    "## Symmetric vs Asymmetric Encryption"
   ]
  },
  {
   "cell_type": "markdown",
   "id": "ac1f4213",
   "metadata": {},
   "source": [
    "\n",
    "- **Symmetric (AES‑GCM)**: Same key for encrypt/decrypt; fast; used for bulk data.\n",
    "- **Asymmetric (RSA‑OAEP)**: Public key encrypts, private key decrypts; slower; used to exchange symmetric keys securely.\n",
    "\n",
    "We'll demo both.\n"
   ]
  },
  {
   "cell_type": "code",
   "id": "1dcaf635",
   "metadata": {
    "ExecuteTime": {
     "end_time": "2025-08-28T13:18:34.826281Z",
     "start_time": "2025-08-28T13:18:33.882761Z"
    }
   },
   "source": [
    "\n",
    "from Crypto.Cipher import AES, PKCS1_OAEP\n",
    "from Crypto.PublicKey import RSA\n",
    "\n",
    "# --- Symmetric: AES-GCM ---\n",
    "key = secrets.token_bytes(32)  # 256-bit key\n",
    "nonce = secrets.token_bytes(12)\n",
    "aad = b\"context\"\n",
    "plaintext = b\"Symmetric AES-GCM demo message.\"\n",
    "\n",
    "aes = AES.new(key, AES.MODE_GCM, nonce=nonce)\n",
    "aes.update(aad)\n",
    "ciphertext, tag = aes.encrypt_and_digest(plaintext)\n",
    "\n",
    "# Decrypt\n",
    "dec = AES.new(key, AES.MODE_GCM, nonce=nonce)\n",
    "dec.update(aad)\n",
    "pt = dec.decrypt_and_verify(ciphertext, tag)\n",
    "print(\"AES-GCM decrypted:\", pt.decode())\n",
    "\n",
    "# --- Asymmetric: RSA-OAEP ---\n",
    "rsa_key = RSA.generate(2048)\n",
    "rsa_pub = rsa_key.publickey()\n",
    "oaep = PKCS1_OAEP.new(rsa_pub)\n",
    "ct = oaep.encrypt(b\"hello via RSA-OAEP\")\n",
    "oaep_dec = PKCS1_OAEP.new(rsa_key)\n",
    "print(\"RSA-OAEP decrypted:\", oaep_dec.decrypt(ct))\n"
   ],
   "outputs": [
    {
     "name": "stdout",
     "output_type": "stream",
     "text": [
      "AES-GCM decrypted: Symmetric AES-GCM demo message.\n",
      "RSA-OAEP decrypted: b'hello via RSA-OAEP'\n"
     ]
    }
   ],
   "execution_count": 7
  },
  {
   "cell_type": "markdown",
   "id": "b4da18db",
   "metadata": {},
   "source": [
    "## Digital Signatures: Basics & Examples"
   ]
  },
  {
   "cell_type": "markdown",
   "id": "39aef0f2",
   "metadata": {},
   "source": [
    "\n",
    "We show three signature schemes:\n",
    "\n",
    "1. **ECDSA (secp256k1)** — used in Bitcoin & Ethereum transactions.\n",
    "2. **Ed25519** — modern, fast, deterministic signatures.\n",
    "3. **RSA‑PSS** — classic scheme with probabilistic padding.\n",
    "\n",
    "> References for deeper study in common blockchain texts: Polkadot (Sec. 1.6), Ethereum (Ch. 6, ~p.115), Bitcoin (Ch. 8).\n"
   ]
  },
  {
   "cell_type": "code",
   "id": "50ebe713",
   "metadata": {
    "ExecuteTime": {
     "end_time": "2025-08-28T13:18:35.219999Z",
     "start_time": "2025-08-28T13:18:34.840995Z"
    }
   },
   "source": [
    "import hashlib\n",
    "from ecdsa import SigningKey, SECP256k1, BadSignatureError\n",
    "from Crypto.PublicKey import RSA, ECC\n",
    "from Crypto.Signature import pss, eddsa\n",
    "from Crypto.Hash import SHA256\n",
    "\n",
    "message = b\"Blockchains rely on strong digital signatures.\"\n",
    "\n",
    "# 1) ECDSA secp256k1\n",
    "ecdsa_sk = SigningKey.generate(curve=SECP256k1)\n",
    "ecdsa_vk = ecdsa_sk.get_verifying_key()\n",
    "sig_ecdsa = ecdsa_sk.sign_deterministic(message, hashfunc=hashlib.sha256)\n",
    "try:\n",
    "    assert ecdsa_vk.verify(sig_ecdsa, message, hashfunc=hashlib.sha256)\n",
    "    print(\"ECDSA(secp256k1) signature verified.\")\n",
    "except BadSignatureError:\n",
    "    print(\"ECDSA verification failed.\")\n",
    "\n",
    "# 2) Ed25519 via ECC + EdDSA (RFC 8032)\n",
    "ed_key = ECC.generate(curve=\"Ed25519\")\n",
    "signer = eddsa.new(ed_key, 'rfc8032')\n",
    "sig_ed = signer.sign(message)  # sign RAW message per RFC 8032\n",
    "verifier = eddsa.new(ed_key.public_key(), 'rfc8032')\n",
    "try:\n",
    "    verifier.verify(message, sig_ed)  # raises ValueError if invalid\n",
    "    print(\"Ed25519 (EdDSA) signature verified.\")\n",
    "except ValueError:\n",
    "    print(\"Ed25519 (EdDSA) verification failed.\")\n",
    "\n",
    "# 3) RSA-PSS\n",
    "rsa_key = RSA.generate(2048)\n",
    "h = SHA256.new(message)\n",
    "sig_pss = pss.new(rsa_key).sign(h)\n",
    "try:\n",
    "    pss.new(rsa_key.publickey()).verify(h, sig_pss)\n",
    "    print(\"RSA-PSS signature verified.\")\n",
    "except (ValueError, TypeError):\n",
    "    print(\"RSA-PSS verification failed.\")\n"
   ],
   "outputs": [
    {
     "name": "stdout",
     "output_type": "stream",
     "text": [
      "ECDSA(secp256k1) signature verified.\n",
      "Ed25519 (EdDSA) signature verified.\n",
      "RSA-PSS signature verified.\n"
     ]
    }
   ],
   "execution_count": 8
  },
  {
   "cell_type": "markdown",
   "id": "3890eef3",
   "metadata": {},
   "source": [
    "### Ethereum-style message signing (EIP‑191 prefix)"
   ]
  },
  {
   "cell_type": "code",
   "id": "2968556f",
   "metadata": {
    "ExecuteTime": {
     "end_time": "2025-08-28T13:18:35.227010Z",
     "start_time": "2025-08-28T13:18:35.224566Z"
    }
   },
   "source": [
    "\n",
    "def eth_personal_message_hash(msg: bytes) -> bytes:\n",
    "    prefix = f\"\\x19Ethereum Signed Message:\\n{len(msg)}\".encode()\n",
    "    return keccak_256(prefix + msg)\n",
    "\n",
    "m = b\"hello ethereum\"\n",
    "h = eth_personal_message_hash(m)\n",
    "print(\"EIP-191 personal_sign hash:\", h.hex())\n"
   ],
   "outputs": [
    {
     "name": "stdout",
     "output_type": "stream",
     "text": [
      "EIP-191 personal_sign hash: 67c26cbc465c8dd74c6bc19de8dd65934444f217df69d8850fe87245f4df9af7\n"
     ]
    }
   ],
   "execution_count": 9
  },
  {
   "cell_type": "markdown",
   "id": "54377eb7",
   "metadata": {},
   "source": [
    "## Security Considerations (for real projects)"
   ]
  },
  {
   "cell_type": "markdown",
   "id": "99f480dd",
   "metadata": {},
   "source": [
    "\n",
    "- Use **battle‑tested libraries**; do not roll your own crypto.\n",
    "- Keep **private keys** and **mnemonics** off-network; use HSMs or secure enclaves where possible.\n",
    "- Ensure **quality randomness** (OS CSPRNG via `secrets` in Python).\n",
    "- Be careful with **nonces** in ECDSA (re‑use can leak private keys).\n",
    "- Validate **address checksums** (Base58Check, EIP‑55 for Ethereum, SS58 checksum for Polkadot).\n",
    "- Understand **threat models**: phishing, clipboard hijacking, transaction malleability nuances, side channels.\n",
    "- Use **KDFs** with strong parameters for passwords (scrypt/Argon2).\n",
    "- Test with **testnets** before mainnet; add monitoring & alerts.\n"
   ]
  },
  {
   "cell_type": "markdown",
   "id": "925f7fe7",
   "metadata": {},
   "source": [
    "## Practice Exercises"
   ]
  },
  {
   "cell_type": "markdown",
   "id": "03af81c5",
   "metadata": {},
   "source": [
    "\n",
    "1. Compute SHA‑256, Keccak‑256, BLAKE2b‑256 for several inputs; verify small input changes flip ~50% bits.\n",
    "2. Generate secp256k1 keys and derive an Ethereum address; then sign a message and verify.\n",
    "3. Generate a BIP‑39 mnemonic and derive a BIP‑32 child key; discuss how derivation paths (BIP‑44) organize accounts.\n",
    "4. Implement Base58Check encode/decode; verify Bitcoin address checksums.\n",
    "5. Encrypt a file with AES‑GCM; store nonce and tag; decrypt and verify integrity.\n",
    "6. Benchmark hashes for varying sizes and chart results; compare slopes.\n",
    "7. Implement a function that converts an Ed25519 public key to an SS58 address (prefix 42) and test it.\n"
   ]
  },
  {
   "cell_type": "markdown",
   "id": "29c2e739",
   "metadata": {},
   "source": [
    "## Appendix — Extracted Outlines from Uploaded Chapters\n",
    "Below are top‑level headings auto‑extracted from the provided `.adoc`/`.asciidoc` files to guide further reading."
   ]
  },
  {
   "cell_type": "markdown",
   "id": "a9a42982",
   "metadata": {},
   "source": [
    "### ch04_keys.adoc\n",
    "## Keys and Addresses\n",
    "### Public Key Cryptography\n",
    "#### \n",
    "#### \n",
    "#### Private Keys\n",
    "#### \n",
    "#### \n",
    "#### \n",
    "#### \n",
    "#### \n",
    "#### \n",
    "#### Elliptic Curve Cryptography Explained\n",
    "#### \n",
    "#### \n",
    "#### Public Keys\n",
    "#### \n",
    "#### \n",
    "#### \n",
    "#### \n",
    "#### \n",
    "#### \n",
    "### Output and Input Scripts\n",
    "### IP Addresses: The Original Address for Bitcoin (P2PK)\n",
    "### Legacy Addresses for P2PKH\n",
    "### Base58check Encoding\n",
    "#### \n",
    "#### \n",
    "### Compressed Public Keys\n",
    "### Legacy Pay to Script Hash (P2SH)\n",
    "#### \n",
    "#### \n",
    "#### \n",
    "#### \n",
    "### Bech32 Addresses\n",
    "#### \n",
    "#### \n",
    "#### Problems with Bech32 Addresses\n",
    "#### \n",
    "#### \n",
    "#### Bech32m\n",
    "#### \n",
    "#### \n",
    "#### Private Key Formats\n",
    "#### Compressed Private Keys\n",
    "### Advanced Keys and Addresses\n",
    "#### Vanity Addresses\n",
    "##### Generating vanity addresses\n",
    "##### Vanity address security and privacy\n",
    "#### Paper Wallets\n",
    "#### \n",
    "#### "
   ]
  },
  {
   "cell_type": "markdown",
   "id": "574d8f1e",
   "metadata": {},
   "source": [
    "### 04keys-addresses.asciidoc\n",
    "## Cryptography\n",
    "### Keys and Addresses\n",
    "### Public Key Cryptography and Cryptocurrency\n",
    "#### \n",
    "#### \n",
    "#### \n",
    "#### \n",
    "#### \n",
    "#### \n",
    "### Private Keys\n",
    "#### \n",
    "#### \n",
    "#### Generating a Private Key from a Random Number\n",
    "#### \n",
    "#### \n",
    "#### \n",
    "#### \n",
    "### Public Keys\n",
    "#### \n",
    "#### \n",
    "#### \n",
    "#### \n",
    "#### Elliptic Curve Cryptography Explained\n",
    "#### \n",
    "#### \n",
    "#### Elliptic Curve Arithmetic Operations\n",
    "#### Generating a Public Key\n",
    "#### \n",
    "#### \n",
    "#### Elliptic Curve Libraries\n",
    "### Cryptographic Hash Functions\n",
    "#### Ethereum's Cryptographic Hash Function: Keccak-256\n",
    "#### \n",
    "#### \n",
    "#### Which Hash Function Am I Using?\n",
    "#### \n",
    "#### \n",
    "### Ethereum Addresses\n",
    "#### \n",
    "#### \n",
    "#### Ethereum Address Formats\n",
    "#### Inter Exchange Client Address Protocol\n",
    "#### \n",
    "#### \n",
    "#### Hex Encoding with Checksum in Capitalization (EIP-55)\n",
    "##### Detecting an error in an EIP-55 encoded address\n",
    "### Conclusions"
   ]
  },
  {
   "cell_type": "markdown",
   "id": "d0cb7580",
   "metadata": {},
   "source": [
    "### ch05_wallets.adoc\n",
    "## Wallet Recovery\n",
    "### Independent Key Generation\n",
    "#### Deterministic Key Generation\n",
    "#### Public Child Key Derivation\n",
    "#### \n",
    "#### \n",
    "#### Hierarchical Deterministic (HD) Key Generation (BIP32)\n",
    "#### Seeds and Recovery Codes\n",
    "#### \n",
    "#### \n",
    "#### \n",
    "#### \n",
    "#### \n",
    "#### \n",
    "#### Backing Up Nonkey Data\n",
    "#### Backing Up Key Derivation Paths\n",
    "### A Wallet Technology Stack in Detail\n",
    "#### BIP39 Recovery Codes\n",
    "#### \n",
    "#### \n",
    "##### Generating a recovery code\n",
    "##### From recovery code to seed\n",
    "#### \n",
    "#### \n",
    "##### Optional passphrase in BIP39\n",
    "#### \n",
    "#### \n",
    "#### Creating an HD Wallet from the Seed\n",
    "##### Private child key derivation\n",
    "##### Using derived child keys\n",
    "#### \n",
    "#### \n",
    "##### Extended keys\n",
    "##### Public child key derivation\n",
    "#### Using an Extended Public Key on a Web Store\n",
    "##### Hardened child key derivation\n",
    "##### Index numbers for normal and hardened derivation\n",
    "##### HD wallet key identifier (path)\n",
    "##### Navigating the HD wallet tree structure"
   ]
  },
  {
   "cell_type": "markdown",
   "id": "c2676446",
   "metadata": {},
   "source": [
    "### 05wallets.asciidoc\n",
    "## Wallets\n",
    "### Wallet Technology Overview\n",
    "#### \n",
    "#### \n",
    "#### Nondeterministic (Random) Wallets\n",
    "#### \n",
    "#### \n",
    "#### Deterministic (Seeded) Wallets\n",
    "#### Hierarchical Deterministic Wallets (BIP-32/BIP-44)\n",
    "#### Seeds and Mnemonic Codes (BIP-39)\n",
    "### Wallet Best Practices\n",
    "#### \n",
    "#### \n",
    "#### Mnemonic Code Words (BIP-39)\n",
    "#### \n",
    "#### \n",
    "##### Generating mnemonic words\n",
    "##### From mnemonic to seed\n",
    "#### \n",
    "#### \n",
    "##### Optional passphrase in BIP-39\n",
    "#### \n",
    "#### \n",
    "##### Working with mnemonic codes\n",
    "#### Creating an HD Wallet from the Seed\n",
    "#### HD Wallets (BIP-32) and Paths (BIP-43/44)\n",
    "#### \n",
    "#### \n",
    "##### Extended public and private keys\n",
    "##### Hardened child key derivation\n",
    "##### Index numbers for normal and hardened derivation\n",
    "##### HD wallet key identifier (path)\n",
    "##### Navigating the HD wallet tree structure\n",
    "### Conclusions"
   ]
  },
  {
   "cell_type": "markdown",
   "id": "5a38f905",
   "metadata": {},
   "source": [
    "\n",
    "## Pointers & Suggested Reading\n",
    "- **Bitcoin**: Hashing (double‑SHA‑256), ECDSA(secps256k1), addresses (Base58Check), wallets (BIP‑32/39/44).\n",
    "- **Ethereum**: Keccak‑256, ECDSA(secp256k1), EIP‑191 personal_sign prefix, Hex checksummed addresses (EIP‑55).\n",
    "- **Polkadot/Substrate**: SS58 addresses, BLAKE2 hashing, Ed25519/sr25519 signatures, xxHash for fast hashing.\n"
   ]
  }
 ],
 "metadata": {
  "kernelspec": {
   "name": "python3",
   "language": "python",
   "display_name": "Python 3 (ipykernel)"
  }
 },
 "nbformat": 4,
 "nbformat_minor": 5
}
